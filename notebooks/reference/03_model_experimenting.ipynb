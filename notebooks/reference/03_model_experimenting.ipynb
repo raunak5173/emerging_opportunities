{
 "cells": [
  {
   "cell_type": "markdown",
   "metadata": {},
   "source": [
    "# Purpose"
   ]
  },
  {
   "cell_type": "markdown",
   "metadata": {},
   "source": [
    "This notebook demonstrates the model experimentation and finalization. It covers EDA, outlier treatment, transformation, training, model evaluation and comparison across models."
   ]
  },
  {
   "cell_type": "markdown",
   "metadata": {},
   "source": [
    "## Imports"
   ]
  },
  {
   "cell_type": "code",
   "execution_count": 44,
   "metadata": {},
   "outputs": [],
   "source": [
    "import os\n",
    "import os.path as op\n",
    "import shutil\n",
    "\n",
    "# standard third party imports\n",
    "import numpy as np\n",
    "import pandas as pd\n",
    "from matplotlib import pyplot as plt\n",
    "from sklearn.pipeline import Pipeline\n",
    "from sklearn.feature_selection import SelectFromModel\n",
    "from sklearn.model_selection import GridSearchCV\n",
    "from sklearn.preprocessing import FunctionTransformer\n",
    "from sklearn.compose import ColumnTransformer\n",
    "from scripts import *\n",
    "\n",
    "# impute missing values\n",
    "from sklearn.experimental import enable_iterative_imputer  # noqa\n",
    "from sklearn.impute import KNNImputer, IterativeImputer, SimpleImputer\n",
    "from sklearn.tree import DecisionTreeRegressor\n",
    "from category_encoders import TargetEncoder\n"
   ]
  },
  {
   "cell_type": "code",
   "execution_count": 45,
   "metadata": {},
   "outputs": [
    {
     "name": "stdout",
     "output_type": "stream",
     "text": [
      "The autoreload extension is already loaded. To reload it, use:\n",
      "  %reload_ext autoreload\n"
     ]
    }
   ],
   "source": [
    "%load_ext autoreload\n",
    "%autoreload 2"
   ]
  },
  {
   "cell_type": "code",
   "execution_count": 46,
   "metadata": {},
   "outputs": [],
   "source": [
    "import warnings\n",
    "\n",
    "warnings.filterwarnings('ignore', message=\"pandas.Int64Index is deprecated and will be removed from pandas in a future version. Use pandas.Index with the appropriate dtype instead.\", \n",
    "                        category=FutureWarning)\n",
    "warnings.filterwarnings('ignore', message=\"pandas.Float64Index is deprecated and will be removed from pandas in a future version. Use pandas.Index with the appropriate dtype instead.\",\n",
    "                        category=FutureWarning)"
   ]
  },
  {
   "cell_type": "code",
   "execution_count": 47,
   "metadata": {
    "tags": []
   },
   "outputs": [],
   "source": [
    "# standard code-template imports\n",
    "from ta_lib.core.api import (\n",
    "    create_context, get_dataframe, get_feature_names_from_column_transformer, string_cleaning,\n",
    "    get_package_path, display_as_tabs, save_pipeline, load_pipeline, initialize_environment,\n",
    "    load_dataset, save_dataset, DEFAULT_ARTIFACTS_PATH\n",
    ")\n",
    "\n",
    "import ta_lib.eda.api as eda\n",
    "from xgboost import XGBRegressor\n",
    "from ta_lib.regression.api import SKLStatsmodelOLS\n",
    "from ta_lib.regression.api import RegressionComparison, RegressionReport\n",
    "import ta_lib.reports.api as reports\n",
    "from ta_lib.data_processing.api import Outlier\n",
    "\n",
    "initialize_environment(debug=False, hide_warnings=True)"
   ]
  },
  {
   "cell_type": "markdown",
   "metadata": {},
   "source": [
    "# Initialization"
   ]
  },
  {
   "cell_type": "code",
   "execution_count": 48,
   "metadata": {},
   "outputs": [],
   "source": [
    "artifacts_folder = DEFAULT_ARTIFACTS_PATH"
   ]
  },
  {
   "cell_type": "code",
   "execution_count": 49,
   "metadata": {},
   "outputs": [],
   "source": [
    "config_path = op.join('conf', 'config.yml')\n",
    "context = create_context(config_path)"
   ]
  },
  {
   "cell_type": "markdown",
   "metadata": {},
   "source": [
    "# 3 Feature Engineering\n",
    "\n",
    "The focus here is the `Pipeline` and not the model. Though the model would inform the pipeline that is needed to train the model, our focus is to set it up in such a way that it can be saved/loaded, tweaked for different model choices and so on."
   ]
  },
  {
   "cell_type": "markdown",
   "metadata": {},
   "source": [
    "## 3.1 Read the Train and Test Data - Low Carb"
   ]
  },
  {
   "cell_type": "code",
   "execution_count": 149,
   "metadata": {},
   "outputs": [
    {
     "name": "stdout",
     "output_type": "stream",
     "text": [
      "(156, 9) (156, 1)\n",
      "(40, 9) (40, 1)\n"
     ]
    }
   ],
   "source": [
    "X_train = load_dataset(context, 'train/theme_low_carb/features_low_carb')\n",
    "y_train = load_dataset(context, 'train/theme_low_carb/target_low_carb')\n",
    "print(X_train.shape, y_train.shape)\n",
    "\n",
    "X_test = load_dataset(context, 'test/theme_low_carb/features_low_carb')\n",
    "y_test = load_dataset(context, 'test/theme_low_carb/target_low_carb')\n",
    "print(X_test.shape, y_test.shape)"
   ]
  },
  {
   "cell_type": "markdown",
   "metadata": {},
   "source": [
    "## 3.2 Feature Engineering Pipelines\n"
   ]
  },
  {
   "cell_type": "markdown",
   "metadata": {},
   "source": [
    "#### General Steps in the Feature Transformation are as follows\n",
    " - Outlier Treatment\n",
    " - Encoding of Categorical Columns\n",
    " - Missing Values Imputation"
   ]
  },
  {
   "cell_type": "code",
   "execution_count": 150,
   "metadata": {},
   "outputs": [],
   "source": [
    "# collecting different types of columns for transformations\n",
    "cat_columns = X_train.select_dtypes('object').columns\n",
    "num_columns = X_train.select_dtypes('number').columns"
   ]
  },
  {
   "cell_type": "markdown",
   "metadata": {},
   "source": [
    "#### Outlier Handling\n",
    "- A Custom Transformer is used to handle outliers. It is not included as part of the pipeline as outliers handling are optional for test data\n",
    "- An option to either drop or cap the outliers can be passed during the transform call\n",
    "- If we want to treat outliers for some columns them we can pass cols argument to the Transformer\n",
    "- This will go into production code"
   ]
  },
  {
   "cell_type": "code",
   "execution_count": 151,
   "metadata": {},
   "outputs": [],
   "source": [
    "outlier_transformer = Outlier(method='mean')\n",
    "train_X = outlier_transformer.fit_transform(X_train)"
   ]
  },
  {
   "cell_type": "markdown",
   "metadata": {},
   "source": [
    "#### Scaling\n"
   ]
  },
  {
   "cell_type": "code",
   "execution_count": 152,
   "metadata": {},
   "outputs": [],
   "source": [
    "# Scaling the training and test sets\n",
    "from sklearn.preprocessing import StandardScaler\n",
    "\n",
    "sc = StandardScaler()\n",
    "X_train_std = sc.fit_transform(X_train)\n",
    "X_test_std = sc.transform(X_test)\n",
    "\n",
    "# Retaining column names after standardization\n",
    "X_train_std = pd.DataFrame(X_train_std, columns = X_train.columns)\n",
    "X_test_std = pd.DataFrame(X_test_std, columns = X_test.columns)\n",
    "\n",
    "y_train = pd.DataFrame(y_train).reset_index(drop=True)\n",
    "y_test = pd.DataFrame(y_test).reset_index(drop=True)"
   ]
  },
  {
   "cell_type": "markdown",
   "metadata": {},
   "source": [
    "### 3.2.1 Univariate\n",
    "\n",
    "\n",
    "- Look at each variable independently. This is useful if your models have assumptions on the distribution and/or bounds on the features/target"
   ]
  },
  {
   "cell_type": "code",
   "execution_count": 153,
   "metadata": {},
   "outputs": [
    {
     "data": {},
     "metadata": {},
     "output_type": "display_data"
    },
    {
     "data": {
      "application/vnd.holoviews_exec.v0+json": "",
      "text/html": [
       "<div id='81466'>\n",
       "  <div class=\"bk-root\" id=\"346510d7-d826-48af-8d40-660cee0e318f\" data-root-id=\"81466\"></div>\n",
       "</div>\n",
       "<script type=\"application/javascript\">(function(root) {\n",
       "  function embed_document(root) {\n",
       "    var docs_json = {\"23abdd3d-bb02-486c-82ea-22801b8f73bf\":{\"defs\":[{\"extends\":null,\"module\":null,\"name\":\"ReactiveHTML1\",\"overrides\":[],\"properties\":[]},{\"extends\":null,\"module\":null,\"name\":\"FlexBox1\",\"overrides\":[],\"properties\":[{\"default\":\"flex-start\",\"kind\":null,\"name\":\"align_content\"},{\"default\":\"flex-start\",\"kind\":null,\"name\":\"align_items\"},{\"default\":\"row\",\"kind\":null,\"name\":\"flex_direction\"},{\"default\":\"wrap\",\"kind\":null,\"name\":\"flex_wrap\"},{\"default\":\"flex-start\",\"kind\":null,\"name\":\"justify_content\"}]},{\"extends\":null,\"module\":null,\"name\":\"GridStack1\",\"overrides\":[],\"properties\":[{\"default\":\"warn\",\"kind\":null,\"name\":\"mode\"},{\"default\":null,\"kind\":null,\"name\":\"ncols\"},{\"default\":null,\"kind\":null,\"name\":\"nrows\"},{\"default\":true,\"kind\":null,\"name\":\"allow_resize\"},{\"default\":true,\"kind\":null,\"name\":\"allow_drag\"},{\"default\":[],\"kind\":null,\"name\":\"state\"}]},{\"extends\":null,\"module\":null,\"name\":\"click1\",\"overrides\":[],\"properties\":[{\"default\":\"\",\"kind\":null,\"name\":\"terminal_output\"},{\"default\":\"\",\"kind\":null,\"name\":\"debug_name\"},{\"default\":0,\"kind\":null,\"name\":\"clears\"}]},{\"extends\":null,\"module\":null,\"name\":\"NotificationAreaBase1\",\"overrides\":[],\"properties\":[{\"default\":\"bottom-right\",\"kind\":null,\"name\":\"position\"},{\"default\":0,\"kind\":null,\"name\":\"_clear\"}]},{\"extends\":null,\"module\":null,\"name\":\"NotificationArea1\",\"overrides\":[],\"properties\":[{\"default\":[],\"kind\":null,\"name\":\"notifications\"},{\"default\":\"bottom-right\",\"kind\":null,\"name\":\"position\"},{\"default\":0,\"kind\":null,\"name\":\"_clear\"},{\"default\":[{\"background\":\"#ffc107\",\"icon\":{\"className\":\"fas fa-exclamation-triangle\",\"color\":\"white\",\"tagName\":\"i\"},\"type\":\"warning\"},{\"background\":\"#007bff\",\"icon\":{\"className\":\"fas fa-info-circle\",\"color\":\"white\",\"tagName\":\"i\"},\"type\":\"info\"}],\"kind\":null,\"name\":\"types\"}]},{\"extends\":null,\"module\":null,\"name\":\"Notification\",\"overrides\":[],\"properties\":[{\"default\":null,\"kind\":null,\"name\":\"background\"},{\"default\":3000,\"kind\":null,\"name\":\"duration\"},{\"default\":null,\"kind\":null,\"name\":\"icon\"},{\"default\":\"\",\"kind\":null,\"name\":\"message\"},{\"default\":null,\"kind\":null,\"name\":\"notification_type\"},{\"default\":false,\"kind\":null,\"name\":\"_destroyed\"}]},{\"extends\":null,\"module\":null,\"name\":\"TemplateActions1\",\"overrides\":[],\"properties\":[{\"default\":0,\"kind\":null,\"name\":\"open_modal\"},{\"default\":0,\"kind\":null,\"name\":\"close_modal\"}]},{\"extends\":null,\"module\":null,\"name\":\"MaterialTemplateActions1\",\"overrides\":[],\"properties\":[{\"default\":0,\"kind\":null,\"name\":\"open_modal\"},{\"default\":0,\"kind\":null,\"name\":\"close_modal\"}]}],\"roots\":{\"references\":[{\"attributes\":{},\"id\":\"81479\",\"type\":\"LinearScale\"},{\"attributes\":{\"children\":[[{\"id\":\"81474\"},0,0],[{\"id\":\"81677\"},1,0]]},\"id\":\"81698\",\"type\":\"GridBox\"},{\"attributes\":{\"children\":[{\"id\":\"81888\"},{\"id\":\"81889\"},{\"id\":\"81891\"}],\"margin\":[0,0,0,0],\"name\":\"Row211173\"},\"id\":\"81887\",\"type\":\"Row\"},{\"attributes\":{},\"id\":\"81542\",\"type\":\"UnionRenderers\"},{\"attributes\":{\"axis_label\":\"Frequency\",\"coordinates\":null,\"formatter\":{\"id\":\"81508\"},\"group\":null,\"major_label_policy\":{\"id\":\"81509\"},\"ticker\":{\"id\":\"81488\"}},\"id\":\"81487\",\"type\":\"LinearAxis\"},{\"attributes\":{\"axis_label\":\"Average Price A_density, y\",\"coordinates\":null,\"formatter\":{\"id\":\"81535\"},\"group\":null,\"major_label_policy\":{\"id\":\"81536\"},\"ticker\":{\"id\":\"81534\"},\"y_range_name\":\"twiny\"},\"id\":\"81529\",\"type\":\"LinearAxis\"},{\"attributes\":{\"bottom\":{\"value\":0},\"fill_alpha\":{\"value\":0.2},\"fill_color\":{\"value\":\"#00fff0\"},\"hatch_alpha\":{\"value\":0.2},\"hatch_color\":{\"value\":\"#00fff0\"},\"left\":{\"field\":\"left\"},\"line_alpha\":{\"value\":0.2},\"right\":{\"field\":\"right\"},\"top\":{\"field\":\"top\"}},\"id\":\"81515\",\"type\":\"Quad\"},{\"attributes\":{\"end\":5.4139057395066885,\"reset_end\":5.4139057395066885,\"reset_start\":3.5527624486936733,\"start\":3.5527624486936733,\"tags\":[[[\"x\",\"x\",null]]]},\"id\":\"81471\",\"type\":\"Range1d\"},{\"attributes\":{\"children\":[{\"id\":\"81469\"},{\"id\":\"81887\"}],\"margin\":[0,0,0,0],\"name\":\"Column211178\"},\"id\":\"81468\",\"type\":\"Column\"},{\"attributes\":{\"toolbars\":[{\"id\":\"81497\"}],\"tools\":[{\"id\":\"81473\"},{\"id\":\"81491\"},{\"id\":\"81492\"},{\"id\":\"81493\"},{\"id\":\"81494\"},{\"id\":\"81495\"}]},\"id\":\"81699\",\"type\":\"ProxyToolbar\"},{\"attributes\":{},\"id\":\"81493\",\"type\":\"WheelZoomTool\"},{\"attributes\":{\"coordinates\":null,\"data_source\":{\"id\":\"81519\"},\"glyph\":{\"id\":\"81522\"},\"group\":null,\"hover_glyph\":null,\"muted_glyph\":{\"id\":\"81524\"},\"nonselection_glyph\":{\"id\":\"81523\"},\"selection_glyph\":{\"id\":\"81527\"},\"view\":{\"id\":\"81526\"},\"y_range_name\":\"twiny\"},\"id\":\"81525\",\"type\":\"GlyphRenderer\"},{\"attributes\":{\"children\":[{\"id\":\"81467\"},{\"id\":\"81468\"},{\"id\":\"81892\"}],\"margin\":[0,0,0,0],\"name\":\"Row211165\"},\"id\":\"81466\",\"type\":\"Row\"},{\"attributes\":{\"source\":{\"id\":\"81519\"}},\"id\":\"81526\",\"type\":\"CDSView\"},{\"attributes\":{\"format\":\"0,0.0[00000]\"},\"id\":\"81834\",\"type\":\"NumberFormatter\"},{\"attributes\":{\"margin\":[5,5,5,5],\"name\":\"HSpacer211179\",\"sizing_mode\":\"stretch_width\"},\"id\":\"81892\",\"type\":\"Spacer\"},{\"attributes\":{},\"id\":\"81860\",\"type\":\"NumberEditor\"},{\"attributes\":{\"fill_alpha\":0.2,\"fill_color\":\"#30a2da\",\"hatch_alpha\":0.2,\"hatch_color\":\"#30a2da\",\"line_alpha\":0.2,\"x\":{\"field\":\"x\"},\"y\":{\"field\":\"y\"}},\"id\":\"81524\",\"type\":\"Patch\"},{\"attributes\":{\"margin\":[5,5,5,5],\"name\":\"HSpacer211175\",\"sizing_mode\":\"stretch_width\"},\"id\":\"81470\",\"type\":\"Spacer\"},{\"attributes\":{\"style\":{\"white-space\":\"nowrap\"},\"text\":\"<span style=\\\"color:black;font-family:Arial;font-style:bold;font-weight:bold;font-size:12pt\\\">col: Average Price A</span>\",\"width\":450},\"id\":\"81702\",\"type\":\"Div\"},{\"attributes\":{},\"id\":\"81855\",\"type\":\"NumberEditor\"},{\"attributes\":{\"margin\":[5,5,5,5],\"name\":\"HSpacer211174\",\"sizing_mode\":\"stretch_width\"},\"id\":\"81467\",\"type\":\"Spacer\"},{\"attributes\":{\"editor\":{\"id\":\"81840\"},\"field\":\"std\",\"formatter\":{\"id\":\"81839\"},\"title\":\"std\"},\"id\":\"81841\",\"type\":\"TableColumn\"},{\"attributes\":{\"end\":1.5118196171752105},\"id\":\"81528\",\"type\":\"Range1d\"},{\"attributes\":{},\"id\":\"81491\",\"type\":\"SaveTool\"},{\"attributes\":{\"children\":[{\"id\":\"81470\"},{\"id\":\"81703\"},{\"id\":\"81886\"}],\"margin\":[0,0,0,0],\"name\":\"Row211177\"},\"id\":\"81469\",\"type\":\"Row\"},{\"attributes\":{\"source\":{\"id\":\"81635\"}},\"id\":\"81679\",\"type\":\"CDSView\"},{\"attributes\":{\"editor\":{\"id\":\"81860\"},\"field\":\"A_75_percent\",\"formatter\":{\"id\":\"81859\"},\"title\":\"75%\"},\"id\":\"81861\",\"type\":\"TableColumn\"},{\"attributes\":{\"format\":\"0,0.0[00000]\"},\"id\":\"81854\",\"type\":\"NumberFormatter\"},{\"attributes\":{\"margin\":[5,5,5,5],\"name\":\"HSpacer211171\",\"sizing_mode\":\"stretch_width\"},\"id\":\"81888\",\"type\":\"Spacer\"},{\"attributes\":{\"editor\":{\"id\":\"81835\"},\"field\":\"mean\",\"formatter\":{\"id\":\"81834\"},\"title\":\"mean\"},\"id\":\"81836\",\"type\":\"TableColumn\"},{\"attributes\":{},\"id\":\"81508\",\"type\":\"BasicTickFormatter\"},{\"attributes\":{\"toolbar\":{\"id\":\"81699\"},\"toolbar_location\":\"above\"},\"id\":\"81700\",\"type\":\"ToolbarBox\"},{\"attributes\":{},\"id\":\"81845\",\"type\":\"NumberEditor\"},{\"attributes\":{},\"id\":\"81850\",\"type\":\"NumberEditor\"},{\"attributes\":{\"children\":[{\"id\":\"81890\"}],\"css_classes\":[\"panel-widget-box\"],\"margin\":[5,5,5,5],\"name\":\"WidgetBox211166\"},\"id\":\"81889\",\"type\":\"Column\"},{\"attributes\":{},\"id\":\"81636\",\"type\":\"Selection\"},{\"attributes\":{\"editor\":{\"id\":\"81845\"},\"field\":\"min\",\"formatter\":{\"id\":\"81844\"},\"title\":\"min\"},\"id\":\"81846\",\"type\":\"TableColumn\"},{\"attributes\":{\"format\":\"0,0.0[00000]\"},\"id\":\"81844\",\"type\":\"NumberFormatter\"},{\"attributes\":{\"coordinates\":null,\"group\":null,\"text\":\"Density Plot for Average Price A\",\"text_color\":\"black\",\"text_font_size\":\"12pt\"},\"id\":\"81475\",\"type\":\"Title\"},{\"attributes\":{\"margin\":[20,20,20,20],\"min_width\":250,\"options\":[\"Average Price A\",\"Average Price B\",\"Average Price D\",\"Average Price H\",\"Average Price Others\",\"total_0W\",\"total_5W\",\"total_post_0W\",\"total_post_50W\"],\"title\":\"col\",\"value\":\"Average Price A\",\"width\":250},\"id\":\"81890\",\"type\":\"panel.models.widgets.CustomSelect\"},{\"attributes\":{\"axis\":{\"id\":\"81487\"},\"coordinates\":null,\"dimension\":1,\"grid_line_color\":null,\"group\":null,\"ticker\":null},\"id\":\"81490\",\"type\":\"Grid\"},{\"attributes\":{},\"id\":\"81840\",\"type\":\"NumberEditor\"},{\"attributes\":{\"margin\":[5,5,5,5],\"name\":\"HSpacer211172\",\"sizing_mode\":\"stretch_width\"},\"id\":\"81891\",\"type\":\"Spacer\"},{\"attributes\":{},\"id\":\"81492\",\"type\":\"PanTool\"},{\"attributes\":{\"editor\":{\"id\":\"81850\"},\"field\":\"A_25_percent\",\"formatter\":{\"id\":\"81849\"},\"title\":\"25%\"},\"id\":\"81851\",\"type\":\"TableColumn\"},{\"attributes\":{\"data\":{\"left\":{\"__ndarray__\":\"CkRngJ6WD0C1WWFwEgIQQGYRj6DVOBBAFsm80JhvEEDHgOoAXKYQQHc4GDEf3RBAKPBFYeITEUDYp3ORpUoRQIlfocFogRFAORfP8Su4EUDqzvwh7+4RQJqGKlKyJRJASj5YgnVcEkD79YWyOJMSQKuts+L7yRJAXGXhEr8AE0AMHQ9DgjcTQL3UPHNFbhNAbYxqowilE0AeRJjTy9sTQA==\",\"dtype\":\"float64\",\"order\":\"little\",\"shape\":[20]},\"right\":{\"__ndarray__\":\"tVlhcBICEEBmEY+g1TgQQBbJvNCYbxBAx4DqAFymEEB3OBgxH90QQCjwRWHiExFA2KdzkaVKEUCJX6HBaIERQDkXz/EruBFA6s78Ie/uEUCahipSsiUSQEo+WIJ1XBJA+/WFsjiTEkCrrbPi+8kSQFxl4RK/ABNADB0PQ4I3E0C91DxzRW4TQG2MaqMIpRNAHkSY08vbE0DO+8UDjxIUQA==\",\"dtype\":\"float64\",\"order\":\"little\",\"shape\":[20]},\"top\":[4,6,5,6,4,13,19,11,17,8,10,4,7,2,6,4,2,12,9,7]},\"selected\":{\"id\":\"81511\"},\"selection_policy\":{\"id\":\"81540\"}},\"id\":\"81510\",\"type\":\"ColumnDataSource\"},{\"attributes\":{},\"id\":\"81511\",\"type\":\"Selection\"},{\"attributes\":{\"fill_alpha\":0.5,\"fill_color\":\"#30a2da\",\"hatch_alpha\":0.1,\"hatch_color\":\"#30a2da\",\"line_alpha\":1,\"x\":{\"field\":\"x\"},\"y\":{\"field\":\"y\"}},\"id\":\"81523\",\"type\":\"Patch\"},{\"attributes\":{\"editor\":{\"id\":\"81855\"},\"field\":\"A_50_percent\",\"formatter\":{\"id\":\"81854\"},\"title\":\"50%\"},\"id\":\"81856\",\"type\":\"TableColumn\"},{\"attributes\":{},\"id\":\"81488\",\"type\":\"BasicTicker\"},{\"attributes\":{\"axis\":{\"id\":\"81483\"},\"coordinates\":null,\"grid_line_color\":null,\"group\":null,\"ticker\":null},\"id\":\"81486\",\"type\":\"Grid\"},{\"attributes\":{},\"id\":\"81865\",\"type\":\"NumberEditor\"},{\"attributes\":{},\"id\":\"81495\",\"type\":\"ResetTool\"},{\"attributes\":{\"format\":\"0,0.0[00000]\"},\"id\":\"81849\",\"type\":\"NumberFormatter\"},{\"attributes\":{\"fill_alpha\":0.5,\"fill_color\":\"#30a2da\",\"hatch_color\":\"#30a2da\",\"x\":{\"field\":\"x\"},\"y\":{\"field\":\"y\"}},\"id\":\"81527\",\"type\":\"Patch\"},{\"attributes\":{\"format\":\"0,0.0[00000]\"},\"id\":\"81859\",\"type\":\"NumberFormatter\"},{\"attributes\":{\"editor\":{\"id\":\"81865\"},\"field\":\"max\",\"formatter\":{\"id\":\"81864\"},\"title\":\"max\"},\"id\":\"81866\",\"type\":\"TableColumn\"},{\"attributes\":{\"columns\":[{\"id\":\"81831\"},{\"id\":\"81836\"},{\"id\":\"81841\"},{\"id\":\"81846\"},{\"id\":\"81851\"},{\"id\":\"81856\"},{\"id\":\"81861\"},{\"id\":\"81866\"}],\"height\":60,\"reorderable\":false,\"source\":{\"id\":\"81635\"},\"view\":{\"id\":\"81679\"}},\"id\":\"81677\",\"type\":\"DataTable\"},{\"attributes\":{\"tools\":[{\"id\":\"81473\"},{\"id\":\"81491\"},{\"id\":\"81492\"},{\"id\":\"81493\"},{\"id\":\"81494\"},{\"id\":\"81495\"}]},\"id\":\"81497\",\"type\":\"Toolbar\"},{\"attributes\":{\"format\":\"0,0.0[00000]\"},\"id\":\"81864\",\"type\":\"NumberFormatter\"},{\"attributes\":{\"bottom_units\":\"screen\",\"coordinates\":null,\"fill_alpha\":0.5,\"fill_color\":\"lightgrey\",\"group\":null,\"left_units\":\"screen\",\"level\":\"overlay\",\"line_alpha\":1.0,\"line_color\":\"black\",\"line_dash\":[4,4],\"line_width\":2,\"right_units\":\"screen\",\"syncable\":false,\"top_units\":\"screen\"},\"id\":\"81496\",\"type\":\"BoxAnnotation\"},{\"attributes\":{\"overlay\":{\"id\":\"81496\"}},\"id\":\"81494\",\"type\":\"BoxZoomTool\"},{\"attributes\":{\"bottom\":{\"value\":0},\"fill_alpha\":{\"value\":1.0},\"fill_color\":{\"value\":\"#00fff0\"},\"hatch_alpha\":{\"value\":1.0},\"hatch_color\":{\"value\":\"#00fff0\"},\"hatch_scale\":{\"value\":12.0},\"hatch_weight\":{\"value\":1.0},\"left\":{\"field\":\"left\"},\"line_alpha\":{\"value\":1.0},\"line_cap\":{\"value\":\"butt\"},\"line_color\":{\"value\":\"black\"},\"line_dash\":{\"value\":[]},\"line_dash_offset\":{\"value\":0},\"line_join\":{\"value\":\"bevel\"},\"line_width\":{\"value\":1},\"right\":{\"field\":\"right\"},\"top\":{\"field\":\"top\"}},\"id\":\"81518\",\"type\":\"Quad\"},{\"attributes\":{\"editor\":{\"id\":\"81830\"},\"field\":\"count\",\"formatter\":{\"id\":\"81829\"},\"title\":\"count\"},\"id\":\"81831\",\"type\":\"TableColumn\"},{\"attributes\":{},\"id\":\"81481\",\"type\":\"LinearScale\"},{\"attributes\":{},\"id\":\"81696\",\"type\":\"UnionRenderers\"},{\"attributes\":{},\"id\":\"81484\",\"type\":\"BasicTicker\"},{\"attributes\":{\"format\":\"0,0.0[00000]\"},\"id\":\"81839\",\"type\":\"NumberFormatter\"},{\"attributes\":{\"axis_label\":\"Average Price A\",\"coordinates\":null,\"formatter\":{\"id\":\"81505\"},\"group\":null,\"major_label_policy\":{\"id\":\"81506\"},\"ticker\":{\"id\":\"81484\"}},\"id\":\"81483\",\"type\":\"LinearAxis\"},{\"attributes\":{},\"id\":\"81835\",\"type\":\"NumberEditor\"},{\"attributes\":{},\"id\":\"81509\",\"type\":\"AllLabels\"},{\"attributes\":{\"data\":{\"x\":{\"__ndarray__\":\"AvDNIVAZDUC5F+ZqUDwNQG8//rNQXw1AJmcW/VCCDUDdji5GUaUNQJO2Ro9RyA1ASt5e2FHrDUABBnchUg4OQLctj2pSMQ5AblWns1JUDkAkfb/8UncOQNuk10VTmg5AkszvjlO9DkBI9AfYU+AOQP8bICFUAw9AtkM4alQmD0Bsa1CzVEkPQCOTaPxUbA9A2rqARVWPD0CQ4piOVbIPQEcKsddV1Q9A/jHJIFb4D0DarPA0qw0QQLXAfFkrHxBAkdQIfqswEEBs6JSiK0IQQEf8IMerUxBAIxCt6ytlEED+IzkQrHYQQNk3xTQsiBBAtUtRWayZEECQX919LKsQQGtzaaKsvBBAR4f1xizOEEAim4HrrN8QQP2uDRAt8RBA2cKZNK0CEUC01iVZLRQRQI/qsX2tJRFAa/49oi03EUBGEsrGrUgRQCEmVustWhFA/TniD65rEUDYTW40Ln0RQLNh+liujhFAj3WGfS6gEUBqiRKirrERQEWdnsYuwxFAILEq667UEUD8xLYPL+YRQNfYQjSv9xFAsuzOWC8JEkCOAFt9rxoSQGkU56EvLBJARChzxq89EkAgPP/qL08SQPtPiw+wYBJA1mMXNDByEkCyd6NYsIMSQI2LL30wlRJAaJ+7obCmEkBEs0fGMLgSQB/H0+qwyRJA+tpfDzHbEkDW7uszsewSQLECeFgx/hJAjBYEfbEPE0BoKpChMSETQEM+HMaxMhNAHlKo6jFEE0D6ZTQPslUTQNV5wDMyZxNAsI1MWLJ4E0CModh8MooTQGe1ZKGymxNAQsnwxTKtE0Ae3Xzqsr4TQPnwCA8z0BNA1ASVM7PhE0CwGCFYM/MTQIssrXyzBBRAZkA5oTMWFEBCVMXFsycUQB1oUeozORRA+HvdDrRKFEDUj2kzNFwUQK+j9Ve0bRRAireBfDR/FEBmyw2htJAUQEHfmcU0ohRAHPMl6rSzFED4BrIONcUUQNMaPjO11hRAri7KVzXoFECKQlZ8tfkUQGVW4qA1CxVAQGpuxbUcFUAcfvrpNS4VQPeRhg62PxVA0qUSMzZRFUDSpRIzNlEVQPeRhg62PxVAHH766TUuFUBAam7FtRwVQGVW4qA1CxVAikJWfLX5FECuLspXNegUQNMaPjO11hRA+AayDjXFFEAc8yXqtLMUQEHfmcU0ohRAZssNobSQFECKt4F8NH8UQK+j9Ve0bRRA1I9pMzRcFED4e90OtEoUQB1oUeozORRAQlTFxbMnFEBmQDmhMxYUQIssrXyzBBRAsBghWDPzE0DUBJUzs+ETQPnwCA8z0BNAHt186rK+E0BCyfDFMq0TQGe1ZKGymxNAjKHYfDKKE0CwjUxYsngTQNV5wDMyZxNA+mU0D7JVE0AeUqjqMUQTQEM+HMaxMhNAaCqQoTEhE0CMFgR9sQ8TQLECeFgx/hJA1u7rM7HsEkD62l8PMdsSQB/H0+qwyRJARLNHxjC4EkBon7uhsKYSQI2LL30wlRJAsnejWLCDEkDWYxc0MHISQPtPiw+wYBJAIDz/6i9PEkBEKHPGrz0SQGkU56EvLBJAjgBbfa8aEkCy7M5YLwkSQNfYQjSv9xFA/MS2Dy/mEUAgsSrrrtQRQEWdnsYuwxFAaokSoq6xEUCPdYZ9LqARQLNh+liujhFA2E1uNC59EUD9OeIPrmsRQCEmVustWhFARhLKxq1IEUBr/j2iLTcRQI/qsX2tJRFAtNYlWS0UEUDZwpk0rQIRQP2uDRAt8RBAIpuB66zfEEBHh/XGLM4QQGtzaaKsvBBAkF/dfSyrEEC1S1FZrJkQQNk3xTQsiBBA/iM5EKx2EEAjEK3rK2UQQEf8IMerUxBAbOiUoitCEECR1Ah+qzAQQLXAfFkrHxBA2qzwNKsNEED+MckgVvgPQEcKsddV1Q9AkOKYjlWyD0DauoBFVY8PQCOTaPxUbA9AbGtQs1RJD0C2QzhqVCYPQP8bICFUAw9ASPQH2FPgDkCSzO+OU70OQNuk10VTmg5AJH2//FJ3DkBuVaezUlQOQLctj2pSMQ5AAQZ3IVIODkBK3l7YUesNQJO2Ro9RyA1A3Y4uRlGlDUAmZxb9UIINQG8//rNQXw1AuRfmalA8DUAC8M0hUBkNQA==\",\"dtype\":\"float64\",\"order\":\"little\",\"shape\":[200]},\"y\":{\"__ndarray__\":\"AAAAAAAAAAAAAAAAAAAAAAAAAAAAAAAAAAAAAAAAAAAAAAAAAAAAAAAAAAAAAAAAAAAAAAAAAAAAAAAAAAAAAAAAAAAAAAAAAAAAAAAAAAAAAAAAAAAAAAAAAAAAAAAAAAAAAAAAAAAAAAAAAAAAAAAAAAAAAAAAAAAAAAAAAAAAAAAAAAAAAAAAAAAAAAAAAAAAAAAAAAAAAAAAAAAAAAAAAAAAAAAAAAAAAAAAAAAAAAAAAAAAAAAAAAAAAAAAAAAAAAAAAAAAAAAAAAAAAAAAAAAAAAAAAAAAAAAAAAAAAAAAAAAAAAAAAAAAAAAAAAAAAAAAAAAAAAAAAAAAAAAAAAAAAAAAAAAAAAAAAAAAAAAAAAAAAAAAAAAAAAAAAAAAAAAAAAAAAAAAAAAAAAAAAAAAAAAAAAAAAAAAAAAAAAAAAAAAAAAAAAAAAAAAAAAAAAAAAAAAAAAAAAAAAAAAAAAAAAAAAAAAAAAAAAAAAAAAAAAAAAAAAAAAAAAAAAAAAAAAAAAAAAAAAAAAAAAAAAAAAAAAAAAAAAAAAAAAAAAAAAAAAAAAAAAAAAAAAAAAAAAAAAAAAAAAAAAAAAAAAAAAAAAAAAAAAAAAAAAAAAAAAAAAAAAAAAAAAAAAAAAAAAAAAAAAAAAAAAAAAAAAAAAAAAAAAAAAAAAAAAAAAAAAAAAAAAAAAAAAAAAAAAAAAAAAAAAAAAAAAAAAAAAAAAAAAAAAAAAAAAAAAAAAAAAAAAAAAAAAAAAAAAAAAAAAAAAAAAAAAAAAAAAAAAAAAAAAAAAAAAAAAAAAAAAAAAAAAAAAAAAAAAAAAAAAAAAAAAAAAAAAAAAAAAAAAAAAAAAAAAAAAAAAAAAAAAAAAAAAAAAAAAAAAAAAAAAAAAAAAAAAAAAAAAAAAAAAAAAAAAAAAAAAAAAAAAAAAAAAAAAAAAAAAAAAAAAAAAAAAAAAAAAAAAAAAAAAAAAAAAAAAAAAAAAAAAAAAAAAAAAAAAAAAAAAAAAAAAAAAAAAAAAAAAAAAAAAAAAAAAAAAAAAAAAAAAAAAAAAAAAAAAAUviKGo8lRP3QfmGRzSV4/qIQOZPQqaT/UTrzs2Wp0Pys8kLBrLIA/dA0qqWgGiT+av3DwfemSPzvRmFC07Zs/6q79GhQnpD8hd05Xgm2sPwmfxNY9mrM/BnYxBYhvuj8uI1dfP2/BP+E68YZCf8Y/5PYvSM9nzD+/uONqHY3RP5MXxEGZO9U/vCiSTSQn2T+nCDhPty/dP1wPza6hl+A/f/J2qjl+4j+88BvOEzfkP+SMGI2jr+U/b0ZBfjPZ5j9mt541Y6rnP+Rcb1AXIOg/c7YFjbg96D9Onj2iugzoP2TFAP+Am+c/3f+tdND75j9ouaLnC0HmP2mHab98fuU/cA6/Wd7F5D+6fQl7USbkP+CvfaHGq+M/0wYteNle4z8JfFRjCEXjPy3Lmg0rYeM/28KSkAm04z9HIm1K+TzkP3FT8C1q+uQ/TscGVVXq5T9xJsDkggrnP+/C9vmhWOg/qhPdBTLS6T9UbHNFQnTrP8qR1sQRO+0/CsDQ1J8h7z+SLw1YoJDwP1A1HISlmPE/iOIzWXij8j+wGS6Gp6rzP70s0RjepvQ/il1APieQ9T83FkDTSl72P4yIJIA8Cfc/ZZi8NZaJ9z8jeVV0Ftn3P5jcOyUa8/c/KWB4kQjV9z80uhJWpn73PxMAqvhC8vY/It3JLrU09j8O7gkoHU31PzgYAqRqRPQ/xVVoqK0k8z8uZoGKQvjxP+rPp0vyyPA/ZgLMX0k+7z93fqrwgALtP/SnkT+f5uo/Aiu5P+Xt6D+w4hfZQRfnP6XR0F9RXuU/NUDsfq284z8i4uOYViviP1kfzK0ApOA/B9f+OS9E3j+7Fl+0vEbbP6mAgQc+UNg/0x2EwOZl1T92/fjodpDSP1YzzaGDtc8/to17hySgyj+u+OyRVvXFP5ybkiMuxcE/7/7Z1IozvD8/71GJQu21P2KKRkrjsbA/59MhS/zhqD9xdlIzGySiP6EjIiof3pk/cm1WdFoHkj8tfFdy/Y6IP/+g9s9SV4A/DPxeyU09dT/ffZxWr/RqP0hQFqzVsmA/YrcUQlcxVD/R8h6V9tNHPw==\",\"dtype\":\"float64\",\"order\":\"little\",\"shape\":[200]}},\"selected\":{\"id\":\"81520\"},\"selection_policy\":{\"id\":\"81542\"}},\"id\":\"81519\",\"type\":\"ColumnDataSource\"},{\"attributes\":{\"fill_alpha\":0.5,\"fill_color\":\"#30a2da\",\"hatch_color\":\"#30a2da\",\"x\":{\"field\":\"x\"},\"y\":{\"field\":\"y\"}},\"id\":\"81522\",\"type\":\"Patch\"},{\"attributes\":{\"data\":{\"A_25_percent\":{\"__ndarray__\":\"FK5H4XoUEUA=\",\"dtype\":\"float64\",\"order\":\"little\",\"shape\":[1]},\"A_50_percent\":{\"__ndarray__\":\"mpmZmZmZEUA=\",\"dtype\":\"float64\",\"order\":\"little\",\"shape\":[1]},\"A_75_percent\":{\"__ndarray__\":\"zczMzMzMEkA=\",\"dtype\":\"float64\",\"order\":\"little\",\"shape\":[1]},\"count\":{\"__ndarray__\":\"AAAAAACAY0A=\",\"dtype\":\"float64\",\"order\":\"little\",\"shape\":[1]},\"max\":{\"__ndarray__\":\"FK5H4XoUFEA=\",\"dtype\":\"float64\",\"order\":\"little\",\"shape\":[1]},\"mean\":{\"__ndarray__\":\"4XoUrkfhEUA=\",\"dtype\":\"float64\",\"order\":\"little\",\"shape\":[1]},\"min\":{\"__ndarray__\":\"mpmZmZmZD0A=\",\"dtype\":\"float64\",\"order\":\"little\",\"shape\":[1]},\"std\":{\"__ndarray__\":\"7FG4HoXr0T8=\",\"dtype\":\"float64\",\"order\":\"little\",\"shape\":[1]}},\"selected\":{\"id\":\"81636\"},\"selection_policy\":{\"id\":\"81696\"}},\"id\":\"81635\",\"type\":\"ColumnDataSource\"},{\"attributes\":{},\"id\":\"81535\",\"type\":\"BasicTickFormatter\"},{\"attributes\":{},\"id\":\"81534\",\"type\":\"BasicTicker\"},{\"attributes\":{\"source\":{\"id\":\"81510\"}},\"id\":\"81517\",\"type\":\"CDSView\"},{\"attributes\":{},\"id\":\"81536\",\"type\":\"AllLabels\"},{\"attributes\":{\"format\":\"0,0.0[00000]\"},\"id\":\"81829\",\"type\":\"NumberFormatter\"},{\"attributes\":{\"children\":[{\"id\":\"81700\"},{\"id\":\"81698\"}]},\"id\":\"81701\",\"type\":\"Column\"},{\"attributes\":{},\"id\":\"81520\",\"type\":\"Selection\"},{\"attributes\":{\"coordinates\":null,\"data_source\":{\"id\":\"81510\"},\"glyph\":{\"id\":\"81513\"},\"group\":null,\"hover_glyph\":null,\"muted_glyph\":{\"id\":\"81515\"},\"nonselection_glyph\":{\"id\":\"81514\"},\"selection_glyph\":{\"id\":\"81518\"},\"view\":{\"id\":\"81517\"}},\"id\":\"81516\",\"type\":\"GlyphRenderer\"},{\"attributes\":{},\"id\":\"81830\",\"type\":\"NumberEditor\"},{\"attributes\":{},\"id\":\"81506\",\"type\":\"AllLabels\"},{\"attributes\":{\"client_comm_id\":\"1eea80777dee4f58b6d5c44a8d3fcdca\",\"comm_id\":\"fe278fa9c5764622a1355c36e70e4e83\",\"plot_id\":\"81466\"},\"id\":\"81944\",\"type\":\"panel.models.comm_manager.CommManager\"},{\"attributes\":{\"children\":[{\"id\":\"81702\"},{\"id\":\"81701\"}]},\"id\":\"81703\",\"type\":\"Column\"},{\"attributes\":{\"margin\":[5,5,5,5],\"name\":\"HSpacer211176\",\"sizing_mode\":\"stretch_width\"},\"id\":\"81886\",\"type\":\"Spacer\"},{\"attributes\":{\"below\":[{\"id\":\"81483\"}],\"center\":[{\"id\":\"81486\"},{\"id\":\"81490\"}],\"extra_y_ranges\":{\"twiny\":{\"id\":\"81528\"}},\"height\":300,\"left\":[{\"id\":\"81487\"}],\"margin\":null,\"min_border_bottom\":10,\"min_border_left\":10,\"min_border_right\":10,\"min_border_top\":10,\"renderers\":[{\"id\":\"81516\"},{\"id\":\"81525\"}],\"right\":[{\"id\":\"81529\"}],\"sizing_mode\":\"fixed\",\"title\":{\"id\":\"81475\"},\"toolbar\":{\"id\":\"81497\"},\"toolbar_location\":null,\"x_range\":{\"id\":\"81471\"},\"x_scale\":{\"id\":\"81479\"},\"y_range\":{\"id\":\"81472\"},\"y_scale\":{\"id\":\"81481\"}},\"id\":\"81474\",\"subtype\":\"Figure\",\"type\":\"Plot\"},{\"attributes\":{},\"id\":\"81505\",\"type\":\"BasicTickFormatter\"},{\"attributes\":{\"bottom\":{\"value\":0},\"fill_alpha\":{\"value\":0.1},\"fill_color\":{\"value\":\"#00fff0\"},\"hatch_alpha\":{\"value\":0.1},\"hatch_color\":{\"value\":\"#00fff0\"},\"left\":{\"field\":\"left\"},\"line_alpha\":{\"value\":0.1},\"right\":{\"field\":\"right\"},\"top\":{\"field\":\"top\"}},\"id\":\"81514\",\"type\":\"Quad\"},{\"attributes\":{},\"id\":\"81540\",\"type\":\"UnionRenderers\"},{\"attributes\":{\"bottom\":{\"value\":0},\"fill_color\":{\"value\":\"#00fff0\"},\"hatch_color\":{\"value\":\"#00fff0\"},\"left\":{\"field\":\"left\"},\"right\":{\"field\":\"right\"},\"top\":{\"field\":\"top\"}},\"id\":\"81513\",\"type\":\"Quad\"},{\"attributes\":{\"callback\":null,\"renderers\":[{\"id\":\"81525\"}],\"tags\":[\"hv_created\"],\"tooltips\":[[\"Average Price A\",\"@{Average_Price_A}\"],[\"Density\",\"@{Average_Price_A_density}\"]]},\"id\":\"81473\",\"type\":\"HoverTool\"},{\"attributes\":{\"end\":19.19,\"reset_end\":20.89992728277191,\"reset_start\":0.0,\"tags\":[[[\"Frequency\",\"Frequency\",null]]]},\"id\":\"81472\",\"type\":\"Range1d\"}],\"root_ids\":[\"81466\",\"81944\"]},\"title\":\"Bokeh Application\",\"version\":\"2.4.3\"}};\n",
       "    var render_items = [{\"docid\":\"23abdd3d-bb02-486c-82ea-22801b8f73bf\",\"root_ids\":[\"81466\"],\"roots\":{\"81466\":\"346510d7-d826-48af-8d40-660cee0e318f\"}}];\n",
       "    root.Bokeh.embed.embed_items_notebook(docs_json, render_items);\n",
       "  }\n",
       "  if (root.Bokeh !== undefined && root.Bokeh.Panel !== undefined) {\n",
       "    embed_document(root);\n",
       "  } else {\n",
       "    var attempts = 0;\n",
       "    var timer = setInterval(function(root) {\n",
       "      if (root.Bokeh !== undefined && root.Bokeh.Panel !== undefined) {\n",
       "        clearInterval(timer);\n",
       "        embed_document(root);\n",
       "      } else if (document.readyState == \"complete\") {\n",
       "        attempts++;\n",
       "        if (attempts > 200) {\n",
       "          clearInterval(timer);\n",
       "          console.log(\"Bokeh: ERROR: Unable to run BokehJS code because BokehJS library is missing\");\n",
       "        }\n",
       "      }\n",
       "    }, 25, root)\n",
       "  }\n",
       "})(window);</script>"
      ],
      "text/plain": [
       ":DynamicMap   [col]\n",
       "   :Layout\n",
       "      .Overlay.I :Overlay\n",
       "         .Histogram.I    :Histogram   [x]   (Frequency)\n",
       "         .Distribution.I :Distribution   [Average Price A]   (Density)\n",
       "      .Table.I   :Table   [count,mean,std,min,25%,50%,75%,max]"
      ]
     },
     "execution_count": 153,
     "metadata": {
      "application/vnd.holoviews_exec.v0+json": {
       "id": "81466"
      }
     },
     "output_type": "execute_result"
    }
   ],
   "source": [
    "out = eda.get_density_plots(X_train)\n",
    "out"
   ]
  },
  {
   "cell_type": "code",
   "execution_count": 154,
   "metadata": {},
   "outputs": [],
   "source": [
    "# save the plots are html\n",
    "reports.create_report({'univariate': out}, name='feature_analysis_univariate')"
   ]
  },
  {
   "cell_type": "markdown",
   "metadata": {},
   "source": [
    "A report containing the above plot is available [here](https://drive.google.com/file/d/16ntqUc_zvpg0at5pTtO-ljBjw5UVGFnp/view?usp=sharing)\n"
   ]
  },
  {
   "cell_type": "markdown",
   "metadata": {},
   "source": [
    "Alternatively, the above plots can be generated as a single html as below. The output from this is available [here](https://drive.google.com/file/d/1vUaCcs1PJ4IYo1em9-eZIEj9WuDsnFKT/view?usp=sharing)"
   ]
  },
  {
   "cell_type": "code",
   "execution_count": 155,
   "metadata": {},
   "outputs": [],
   "source": [
    "reports.feature_analysis(X_train,'./feature_analysis_report.html')"
   ]
  },
  {
   "cell_type": "markdown",
   "metadata": {},
   "source": [
    "### 3.2.2 Bivariate - mutual interactions"
   ]
  },
  {
   "cell_type": "markdown",
   "metadata": {},
   "source": [
    "- Find columns with high correlations and drop them"
   ]
  },
  {
   "cell_type": "code",
   "execution_count": 156,
   "metadata": {},
   "outputs": [
    {
     "data": {
      "text/html": [
       "<div>\n",
       "<style scoped>\n",
       "    .dataframe tbody tr th:only-of-type {\n",
       "        vertical-align: middle;\n",
       "    }\n",
       "\n",
       "    .dataframe tbody tr th {\n",
       "        vertical-align: top;\n",
       "    }\n",
       "\n",
       "    .dataframe thead th {\n",
       "        text-align: right;\n",
       "    }\n",
       "</style>\n",
       "<table border=\"1\" class=\"dataframe\">\n",
       "  <thead>\n",
       "    <tr style=\"text-align: right;\">\n",
       "      <th></th>\n",
       "      <th>Variable 1</th>\n",
       "      <th>Variable 2</th>\n",
       "      <th>Corr Coef</th>\n",
       "      <th>Abs Corr Coef</th>\n",
       "    </tr>\n",
       "  </thead>\n",
       "  <tbody>\n",
       "    <tr>\n",
       "      <th>0</th>\n",
       "      <td>Average Price A</td>\n",
       "      <td>Average Price D</td>\n",
       "      <td>-0.779486</td>\n",
       "      <td>0.779486</td>\n",
       "    </tr>\n",
       "    <tr>\n",
       "      <th>1</th>\n",
       "      <td>Average Price D</td>\n",
       "      <td>Average Price H</td>\n",
       "      <td>0.689400</td>\n",
       "      <td>0.689400</td>\n",
       "    </tr>\n",
       "    <tr>\n",
       "      <th>2</th>\n",
       "      <td>Average Price B</td>\n",
       "      <td>Average Price H</td>\n",
       "      <td>-0.625104</td>\n",
       "      <td>0.625104</td>\n",
       "    </tr>\n",
       "    <tr>\n",
       "      <th>3</th>\n",
       "      <td>Average Price D</td>\n",
       "      <td>total_5W</td>\n",
       "      <td>-0.606294</td>\n",
       "      <td>0.606294</td>\n",
       "    </tr>\n",
       "  </tbody>\n",
       "</table>\n",
       "</div>"
      ],
      "text/plain": [
       "        Variable 1       Variable 2  Corr Coef  Abs Corr Coef\n",
       "0  Average Price A  Average Price D  -0.779486       0.779486\n",
       "1  Average Price D  Average Price H   0.689400       0.689400\n",
       "2  Average Price B  Average Price H  -0.625104       0.625104\n",
       "3  Average Price D         total_5W  -0.606294       0.606294"
      ]
     },
     "execution_count": 156,
     "metadata": {},
     "output_type": "execute_result"
    }
   ],
   "source": [
    "out = eda.get_correlation_table(X_train)\n",
    "out[out[\"Abs Corr Coef\"] > 0.6]"
   ]
  },
  {
   "cell_type": "code",
   "execution_count": 157,
   "metadata": {},
   "outputs": [
    {
     "name": "stdout",
     "output_type": "stream",
     "text": [
      "CPU times: user 2.01 s, sys: 8.13 ms, total: 2.02 s\n",
      "Wall time: 2.01 s\n"
     ]
    }
   ],
   "source": [
    "%%time\n",
    "# create reports as needed\n",
    "cols = X_train.columns.to_list()\n",
    "all_plots = {}\n",
    "for ii, col1 in enumerate(cols): \n",
    "    for jj in range(ii+1, len(cols)):\n",
    "        col2 = cols[jj]\n",
    "        out = eda.get_bivariate_plots(X_train, x_cols=[col1], y_cols=[col2])\n",
    "        all_plots.update({f'{col2} vs {col1}': out})\n",
    "\n",
    "reports.create_report(all_plots, name='feature_analysis_bivariate')"
   ]
  },
  {
   "cell_type": "markdown",
   "metadata": {},
   "source": [
    "A report containing the bivariate plot is available [here](https://drive.google.com/file/d/1WSGT3586tY-rOmZ57xGILbmL5ll9cSVT/view?usp=sharing)\n",
    "\n",
    "Alternatively, the above plots can be generated as a single html as below. The output from this is available [here](https://drive.google.com/file/d/1A2fz_bjYv8I3iaFDT75JQSDKeJEXxCtp/view?usp=sharing)"
   ]
  },
  {
   "cell_type": "code",
   "execution_count": 158,
   "metadata": {},
   "outputs": [],
   "source": [
    "reports.feature_interactions(X_train,'./feature_interaction_report.html')"
   ]
  },
  {
   "cell_type": "markdown",
   "metadata": {},
   "source": [
    "### 3.2.3 Key Drivers - Interaction with Target variable"
   ]
  },
  {
   "cell_type": "code",
   "execution_count": 159,
   "metadata": {},
   "outputs": [
    {
     "data": {},
     "metadata": {},
     "output_type": "display_data"
    },
    {
     "data": {},
     "metadata": {},
     "output_type": "display_data"
    },
    {
     "data": {
      "application/vnd.holoviews_exec.v0+json": "",
      "text/html": [
       "<div id='99100'>\n",
       "  <div class=\"bk-root\" id=\"ac6a584a-017c-453d-9993-b97642228a4e\" data-root-id=\"99100\"></div>\n",
       "</div>\n",
       "<script type=\"application/javascript\">(function(root) {\n",
       "  function embed_document(root) {\n",
       "    var docs_json = {\"c82f8b65-62e0-4917-b7c3-610d04cc5562\":{\"defs\":[{\"extends\":null,\"module\":null,\"name\":\"ReactiveHTML1\",\"overrides\":[],\"properties\":[]},{\"extends\":null,\"module\":null,\"name\":\"FlexBox1\",\"overrides\":[],\"properties\":[{\"default\":\"flex-start\",\"kind\":null,\"name\":\"align_content\"},{\"default\":\"flex-start\",\"kind\":null,\"name\":\"align_items\"},{\"default\":\"row\",\"kind\":null,\"name\":\"flex_direction\"},{\"default\":\"wrap\",\"kind\":null,\"name\":\"flex_wrap\"},{\"default\":\"flex-start\",\"kind\":null,\"name\":\"justify_content\"}]},{\"extends\":null,\"module\":null,\"name\":\"GridStack1\",\"overrides\":[],\"properties\":[{\"default\":\"warn\",\"kind\":null,\"name\":\"mode\"},{\"default\":null,\"kind\":null,\"name\":\"ncols\"},{\"default\":null,\"kind\":null,\"name\":\"nrows\"},{\"default\":true,\"kind\":null,\"name\":\"allow_resize\"},{\"default\":true,\"kind\":null,\"name\":\"allow_drag\"},{\"default\":[],\"kind\":null,\"name\":\"state\"}]},{\"extends\":null,\"module\":null,\"name\":\"click1\",\"overrides\":[],\"properties\":[{\"default\":\"\",\"kind\":null,\"name\":\"terminal_output\"},{\"default\":\"\",\"kind\":null,\"name\":\"debug_name\"},{\"default\":0,\"kind\":null,\"name\":\"clears\"}]},{\"extends\":null,\"module\":null,\"name\":\"NotificationAreaBase1\",\"overrides\":[],\"properties\":[{\"default\":\"bottom-right\",\"kind\":null,\"name\":\"position\"},{\"default\":0,\"kind\":null,\"name\":\"_clear\"}]},{\"extends\":null,\"module\":null,\"name\":\"NotificationArea1\",\"overrides\":[],\"properties\":[{\"default\":[],\"kind\":null,\"name\":\"notifications\"},{\"default\":\"bottom-right\",\"kind\":null,\"name\":\"position\"},{\"default\":0,\"kind\":null,\"name\":\"_clear\"},{\"default\":[{\"background\":\"#ffc107\",\"icon\":{\"className\":\"fas fa-exclamation-triangle\",\"color\":\"white\",\"tagName\":\"i\"},\"type\":\"warning\"},{\"background\":\"#007bff\",\"icon\":{\"className\":\"fas fa-info-circle\",\"color\":\"white\",\"tagName\":\"i\"},\"type\":\"info\"}],\"kind\":null,\"name\":\"types\"}]},{\"extends\":null,\"module\":null,\"name\":\"Notification\",\"overrides\":[],\"properties\":[{\"default\":null,\"kind\":null,\"name\":\"background\"},{\"default\":3000,\"kind\":null,\"name\":\"duration\"},{\"default\":null,\"kind\":null,\"name\":\"icon\"},{\"default\":\"\",\"kind\":null,\"name\":\"message\"},{\"default\":null,\"kind\":null,\"name\":\"notification_type\"},{\"default\":false,\"kind\":null,\"name\":\"_destroyed\"}]},{\"extends\":null,\"module\":null,\"name\":\"TemplateActions1\",\"overrides\":[],\"properties\":[{\"default\":0,\"kind\":null,\"name\":\"open_modal\"},{\"default\":0,\"kind\":null,\"name\":\"close_modal\"}]},{\"extends\":null,\"module\":null,\"name\":\"MaterialTemplateActions1\",\"overrides\":[],\"properties\":[{\"default\":0,\"kind\":null,\"name\":\"open_modal\"},{\"default\":0,\"kind\":null,\"name\":\"close_modal\"}]}],\"roots\":{\"references\":[{\"attributes\":{\"callback\":null,\"renderers\":[{\"id\":\"99139\"}],\"tags\":[\"hv_created\"],\"tooltips\":[[\"index\",\"@{index}\"],[\"Pearson_correlation_with_Target\",\"@{Pearson_correlation_with_Target}\"]]},\"id\":\"99103\",\"type\":\"HoverTool\"},{\"attributes\":{},\"id\":\"99120\",\"type\":\"SaveTool\"},{\"attributes\":{\"fill_alpha\":{\"value\":0.1},\"fill_color\":{\"value\":\"#30a2da\"},\"hatch_alpha\":{\"value\":0.1},\"hatch_color\":{\"value\":\"#30a2da\"},\"height\":{\"value\":0.8},\"line_alpha\":{\"value\":0.1},\"right\":{\"field\":\"Pearson_correlation_with_Target\"},\"y\":{\"field\":\"index\"}},\"id\":\"99137\",\"type\":\"HBar\"},{\"attributes\":{\"coordinates\":null,\"group\":null,\"text\":\"Feature Correlation with Target Function\",\"text_color\":\"black\",\"text_font_size\":\"12pt\"},\"id\":\"99105\",\"type\":\"Title\"},{\"attributes\":{\"fill_alpha\":{\"value\":1.0},\"fill_color\":{\"value\":\"#30a2da\"},\"hatch_alpha\":{\"value\":1.0},\"hatch_color\":{\"value\":\"#30a2da\"},\"hatch_scale\":{\"value\":12.0},\"hatch_weight\":{\"value\":1.0},\"height\":{\"value\":0.8},\"left\":{\"value\":0},\"line_alpha\":{\"value\":1.0},\"line_cap\":{\"value\":\"butt\"},\"line_color\":{\"value\":\"black\"},\"line_dash\":{\"value\":[]},\"line_dash_offset\":{\"value\":0},\"line_join\":{\"value\":\"bevel\"},\"line_width\":{\"value\":1},\"right\":{\"field\":\"Pearson_correlation_with_Target\"},\"y\":{\"field\":\"index\"}},\"id\":\"99141\",\"type\":\"HBar\"},{\"attributes\":{\"data\":{\"Pearson_correlation_with_Target\":{\"__ndarray__\":\"oSfhMBz657+JbfNpTjDbv3Ir7baVXLY/WmT5A4zRuz/iBTYB7da7P8Hf1F3nD80/IjOMjGAI0D8ZPgNkZIDWPyQ1rGlPnOY/\",\"dtype\":\"float64\",\"order\":\"little\",\"shape\":[9]},\"index\":[\"Average Price H\",\"Average Price D\",\"total_5W\",\"Average Price Others\",\"total_0W\",\"total_post_0W\",\"Average Price A\",\"total_post_50W\",\"Average Price B\"]},\"selected\":{\"id\":\"99134\"},\"selection_policy\":{\"id\":\"99155\"}},\"id\":\"99133\",\"type\":\"ColumnDataSource\"},{\"attributes\":{\"axis_label\":\"\",\"coordinates\":null,\"formatter\":{\"id\":\"99146\"},\"group\":null,\"major_label_policy\":{\"id\":\"99147\"},\"ticker\":{\"id\":\"99118\"}},\"id\":\"99117\",\"type\":\"CategoricalAxis\"},{\"attributes\":{\"bottom_units\":\"screen\",\"coordinates\":null,\"fill_alpha\":0.5,\"fill_color\":\"lightgrey\",\"group\":null,\"left_units\":\"screen\",\"level\":\"overlay\",\"line_alpha\":1.0,\"line_color\":\"black\",\"line_dash\":[4,4],\"line_width\":2,\"right_units\":\"screen\",\"syncable\":false,\"top_units\":\"screen\"},\"id\":\"99125\",\"type\":\"BoxAnnotation\"},{\"attributes\":{},\"id\":\"99111\",\"type\":\"CategoricalScale\"},{\"attributes\":{},\"id\":\"99134\",\"type\":\"Selection\"},{\"attributes\":{\"below\":[{\"id\":\"99113\"}],\"center\":[{\"id\":\"99116\"},{\"id\":\"99119\"}],\"height\":300,\"left\":[{\"id\":\"99117\"}],\"margin\":[5,5,5,5],\"min_border_bottom\":10,\"min_border_left\":10,\"min_border_right\":10,\"min_border_top\":10,\"renderers\":[{\"id\":\"99139\"}],\"sizing_mode\":\"fixed\",\"title\":{\"id\":\"99105\"},\"toolbar\":{\"id\":\"99126\"},\"width\":700,\"x_range\":{\"id\":\"99101\"},\"x_scale\":{\"id\":\"99109\"},\"y_range\":{\"id\":\"99102\"},\"y_scale\":{\"id\":\"99111\"}},\"id\":\"99104\",\"subtype\":\"Figure\",\"type\":\"Plot\"},{\"attributes\":{\"end\":0.8521670213488965,\"reset_end\":0.8521670213488965,\"reset_start\":-0.8948672062432964,\"start\":-0.8948672062432964,\"tags\":[[[\"Pearson_correlation_with_Target\",\"Pearson_correlation_with_Target\",null]]]},\"id\":\"99101\",\"type\":\"Range1d\"},{\"attributes\":{},\"id\":\"99121\",\"type\":\"PanTool\"},{\"attributes\":{},\"id\":\"99143\",\"type\":\"BasicTickFormatter\"},{\"attributes\":{},\"id\":\"99114\",\"type\":\"BasicTicker\"},{\"attributes\":{},\"id\":\"99155\",\"type\":\"UnionRenderers\"},{\"attributes\":{\"client_comm_id\":\"d14c96d72e3648cba566026ad8df0eab\",\"comm_id\":\"bb2c4430456f49c9957664e40b4acb12\",\"plot_id\":\"99100\"},\"id\":\"99189\",\"type\":\"panel.models.comm_manager.CommManager\"},{\"attributes\":{},\"id\":\"99124\",\"type\":\"ResetTool\"},{\"attributes\":{\"margin\":[0,0,0,0],\"tabs\":[{\"id\":\"99158\"}]},\"id\":\"99100\",\"type\":\"panel.models.tabs.Tabs\"},{\"attributes\":{\"overlay\":{\"id\":\"99125\"}},\"id\":\"99123\",\"type\":\"BoxZoomTool\"},{\"attributes\":{},\"id\":\"99147\",\"type\":\"AllLabels\"},{\"attributes\":{\"factors\":[\"Average Price H\",\"Average Price D\",\"total_5W\",\"Average Price Others\",\"total_0W\",\"total_post_0W\",\"Average Price A\",\"total_post_50W\",\"Average Price B\"],\"tags\":[[[\"index\",\"index\",null]]]},\"id\":\"99102\",\"type\":\"FactorRange\"},{\"attributes\":{\"source\":{\"id\":\"99133\"}},\"id\":\"99140\",\"type\":\"CDSView\"},{\"attributes\":{\"fill_color\":{\"value\":\"#30a2da\"},\"hatch_color\":{\"value\":\"#30a2da\"},\"height\":{\"value\":0.8},\"right\":{\"field\":\"Pearson_correlation_with_Target\"},\"y\":{\"field\":\"index\"}},\"id\":\"99136\",\"type\":\"HBar\"},{\"attributes\":{\"tools\":[{\"id\":\"99103\"},{\"id\":\"99120\"},{\"id\":\"99121\"},{\"id\":\"99122\"},{\"id\":\"99123\"},{\"id\":\"99124\"}]},\"id\":\"99126\",\"type\":\"Toolbar\"},{\"attributes\":{\"coordinates\":null,\"data_source\":{\"id\":\"99133\"},\"glyph\":{\"id\":\"99136\"},\"group\":null,\"hover_glyph\":null,\"muted_glyph\":{\"id\":\"99138\"},\"nonselection_glyph\":{\"id\":\"99137\"},\"selection_glyph\":{\"id\":\"99141\"},\"view\":{\"id\":\"99140\"}},\"id\":\"99139\",\"type\":\"GlyphRenderer\"},{\"attributes\":{\"child\":{\"id\":\"99104\"},\"name\":\"feature_correlation\",\"title\":\"feature_correlation\"},\"id\":\"99158\",\"type\":\"Panel\"},{\"attributes\":{\"fill_alpha\":{\"value\":0.2},\"fill_color\":{\"value\":\"#30a2da\"},\"hatch_alpha\":{\"value\":0.2},\"hatch_color\":{\"value\":\"#30a2da\"},\"height\":{\"value\":0.8},\"line_alpha\":{\"value\":0.2},\"right\":{\"field\":\"Pearson_correlation_with_Target\"},\"y\":{\"field\":\"index\"}},\"id\":\"99138\",\"type\":\"HBar\"},{\"attributes\":{},\"id\":\"99146\",\"type\":\"CategoricalTickFormatter\"},{\"attributes\":{},\"id\":\"99144\",\"type\":\"AllLabels\"},{\"attributes\":{\"axis_label\":\"Pearson_correlation_with_Target\",\"coordinates\":null,\"formatter\":{\"id\":\"99143\"},\"group\":null,\"major_label_policy\":{\"id\":\"99144\"},\"ticker\":{\"id\":\"99114\"}},\"id\":\"99113\",\"type\":\"LinearAxis\"},{\"attributes\":{\"axis\":{\"id\":\"99113\"},\"coordinates\":null,\"grid_line_color\":null,\"group\":null,\"ticker\":null},\"id\":\"99116\",\"type\":\"Grid\"},{\"attributes\":{\"axis\":{\"id\":\"99117\"},\"coordinates\":null,\"dimension\":1,\"grid_line_color\":null,\"group\":null,\"ticker\":null},\"id\":\"99119\",\"type\":\"Grid\"},{\"attributes\":{},\"id\":\"99122\",\"type\":\"WheelZoomTool\"},{\"attributes\":{},\"id\":\"99109\",\"type\":\"LinearScale\"},{\"attributes\":{},\"id\":\"99118\",\"type\":\"CategoricalTicker\"}],\"root_ids\":[\"99100\",\"99189\"]},\"title\":\"Bokeh Application\",\"version\":\"2.4.3\"}};\n",
       "    var render_items = [{\"docid\":\"c82f8b65-62e0-4917-b7c3-610d04cc5562\",\"root_ids\":[\"99100\"],\"roots\":{\"99100\":\"ac6a584a-017c-453d-9993-b97642228a4e\"}}];\n",
       "    root.Bokeh.embed.embed_items_notebook(docs_json, render_items);\n",
       "  }\n",
       "  if (root.Bokeh !== undefined && root.Bokeh.Panel !== undefined) {\n",
       "    embed_document(root);\n",
       "  } else {\n",
       "    var attempts = 0;\n",
       "    var timer = setInterval(function(root) {\n",
       "      if (root.Bokeh !== undefined && root.Bokeh.Panel !== undefined) {\n",
       "        clearInterval(timer);\n",
       "        embed_document(root);\n",
       "      } else if (document.readyState == \"complete\") {\n",
       "        attempts++;\n",
       "        if (attempts > 200) {\n",
       "          clearInterval(timer);\n",
       "          console.log(\"Bokeh: ERROR: Unable to run BokehJS code because BokehJS library is missing\");\n",
       "        }\n",
       "      }\n",
       "    }, 25, root)\n",
       "  }\n",
       "})(window);</script>"
      ],
      "text/plain": [
       "Tabs\n",
       "    [0] HoloViews(Bars, name='feature_correlation')"
      ]
     },
     "execution_count": 159,
     "metadata": {
      "application/vnd.holoviews_exec.v0+json": {
       "id": "99100"
      }
     },
     "output_type": "execute_result"
    }
   ],
   "source": [
    "out = eda.get_target_correlation(X_train, y_train, y_continuous=True)\n",
    "display_as_tabs([(k, v) for k,v in out.items()])"
   ]
  },
  {
   "cell_type": "code",
   "execution_count": 160,
   "metadata": {},
   "outputs": [
    {
     "data": {},
     "metadata": {},
     "output_type": "display_data"
    },
    {
     "data": {},
     "metadata": {},
     "output_type": "display_data"
    },
    {
     "data": {
      "application/vnd.holoviews_exec.v0+json": "",
      "text/html": [
       "<div id='99240'>\n",
       "  <div class=\"bk-root\" id=\"17f1e31a-0ebf-479c-bd8f-f07fe7fd47f4\" data-root-id=\"99240\"></div>\n",
       "</div>\n",
       "<script type=\"application/javascript\">(function(root) {\n",
       "  function embed_document(root) {\n",
       "    var docs_json = {\"02ace3a2-ffa7-4179-8aec-c861edc8afe4\":{\"defs\":[{\"extends\":null,\"module\":null,\"name\":\"ReactiveHTML1\",\"overrides\":[],\"properties\":[]},{\"extends\":null,\"module\":null,\"name\":\"FlexBox1\",\"overrides\":[],\"properties\":[{\"default\":\"flex-start\",\"kind\":null,\"name\":\"align_content\"},{\"default\":\"flex-start\",\"kind\":null,\"name\":\"align_items\"},{\"default\":\"row\",\"kind\":null,\"name\":\"flex_direction\"},{\"default\":\"wrap\",\"kind\":null,\"name\":\"flex_wrap\"},{\"default\":\"flex-start\",\"kind\":null,\"name\":\"justify_content\"}]},{\"extends\":null,\"module\":null,\"name\":\"GridStack1\",\"overrides\":[],\"properties\":[{\"default\":\"warn\",\"kind\":null,\"name\":\"mode\"},{\"default\":null,\"kind\":null,\"name\":\"ncols\"},{\"default\":null,\"kind\":null,\"name\":\"nrows\"},{\"default\":true,\"kind\":null,\"name\":\"allow_resize\"},{\"default\":true,\"kind\":null,\"name\":\"allow_drag\"},{\"default\":[],\"kind\":null,\"name\":\"state\"}]},{\"extends\":null,\"module\":null,\"name\":\"click1\",\"overrides\":[],\"properties\":[{\"default\":\"\",\"kind\":null,\"name\":\"terminal_output\"},{\"default\":\"\",\"kind\":null,\"name\":\"debug_name\"},{\"default\":0,\"kind\":null,\"name\":\"clears\"}]},{\"extends\":null,\"module\":null,\"name\":\"NotificationAreaBase1\",\"overrides\":[],\"properties\":[{\"default\":\"bottom-right\",\"kind\":null,\"name\":\"position\"},{\"default\":0,\"kind\":null,\"name\":\"_clear\"}]},{\"extends\":null,\"module\":null,\"name\":\"NotificationArea1\",\"overrides\":[],\"properties\":[{\"default\":[],\"kind\":null,\"name\":\"notifications\"},{\"default\":\"bottom-right\",\"kind\":null,\"name\":\"position\"},{\"default\":0,\"kind\":null,\"name\":\"_clear\"},{\"default\":[{\"background\":\"#ffc107\",\"icon\":{\"className\":\"fas fa-exclamation-triangle\",\"color\":\"white\",\"tagName\":\"i\"},\"type\":\"warning\"},{\"background\":\"#007bff\",\"icon\":{\"className\":\"fas fa-info-circle\",\"color\":\"white\",\"tagName\":\"i\"},\"type\":\"info\"}],\"kind\":null,\"name\":\"types\"}]},{\"extends\":null,\"module\":null,\"name\":\"Notification\",\"overrides\":[],\"properties\":[{\"default\":null,\"kind\":null,\"name\":\"background\"},{\"default\":3000,\"kind\":null,\"name\":\"duration\"},{\"default\":null,\"kind\":null,\"name\":\"icon\"},{\"default\":\"\",\"kind\":null,\"name\":\"message\"},{\"default\":null,\"kind\":null,\"name\":\"notification_type\"},{\"default\":false,\"kind\":null,\"name\":\"_destroyed\"}]},{\"extends\":null,\"module\":null,\"name\":\"TemplateActions1\",\"overrides\":[],\"properties\":[{\"default\":0,\"kind\":null,\"name\":\"open_modal\"},{\"default\":0,\"kind\":null,\"name\":\"close_modal\"}]},{\"extends\":null,\"module\":null,\"name\":\"MaterialTemplateActions1\",\"overrides\":[],\"properties\":[{\"default\":0,\"kind\":null,\"name\":\"open_modal\"},{\"default\":0,\"kind\":null,\"name\":\"close_modal\"}]}],\"roots\":{\"references\":[{\"attributes\":{},\"id\":\"99260\",\"type\":\"SaveTool\"},{\"attributes\":{},\"id\":\"99264\",\"type\":\"ResetTool\"},{\"attributes\":{},\"id\":\"99258\",\"type\":\"CategoricalTicker\"},{\"attributes\":{\"callback\":null,\"renderers\":[{\"id\":\"99279\"}],\"tags\":[\"hv_created\"],\"tooltips\":[[\"index\",\"@{index}\"],[\"importance\",\"@{importance}\"]]},\"id\":\"99243\",\"type\":\"HoverTool\"},{\"attributes\":{\"fill_alpha\":{\"value\":0.1},\"fill_color\":{\"value\":\"#30a2da\"},\"hatch_alpha\":{\"value\":0.1},\"hatch_color\":{\"value\":\"#30a2da\"},\"height\":{\"value\":0.8},\"line_alpha\":{\"value\":0.1},\"right\":{\"field\":\"importance\"},\"y\":{\"field\":\"index\"}},\"id\":\"99277\",\"type\":\"HBar\"},{\"attributes\":{\"overlay\":{\"id\":\"99265\"}},\"id\":\"99263\",\"type\":\"BoxZoomTool\"},{\"attributes\":{\"factors\":[\"Average Price A\",\"Average Price B\",\"Average Price D\",\"Average Price H\",\"Average Price Others\",\"total_post_0W\",\"total_0W\",\"total_5W\",\"total_post_50W\"],\"tags\":[[[\"index\",\"index\",null]]]},\"id\":\"99242\",\"type\":\"FactorRange\"},{\"attributes\":{\"axis\":{\"id\":\"99257\"},\"coordinates\":null,\"dimension\":1,\"grid_line_color\":null,\"group\":null,\"ticker\":null},\"id\":\"99259\",\"type\":\"Grid\"},{\"attributes\":{},\"id\":\"99284\",\"type\":\"AllLabels\"},{\"attributes\":{\"end\":230416.85897435897,\"reset_end\":230416.85897435897,\"reset_start\":0.0,\"tags\":[[[\"importance\",\"importance\",null]]]},\"id\":\"99241\",\"type\":\"Range1d\"},{\"attributes\":{},\"id\":\"99262\",\"type\":\"WheelZoomTool\"},{\"attributes\":{\"fill_alpha\":{\"value\":1.0},\"fill_color\":{\"value\":\"#30a2da\"},\"hatch_alpha\":{\"value\":1.0},\"hatch_color\":{\"value\":\"#30a2da\"},\"hatch_scale\":{\"value\":12.0},\"hatch_weight\":{\"value\":1.0},\"height\":{\"value\":0.8},\"left\":{\"value\":0},\"line_alpha\":{\"value\":1.0},\"line_cap\":{\"value\":\"butt\"},\"line_color\":{\"value\":\"black\"},\"line_dash\":{\"value\":[]},\"line_dash_offset\":{\"value\":0},\"line_join\":{\"value\":\"bevel\"},\"line_width\":{\"value\":1},\"right\":{\"field\":\"importance\"},\"y\":{\"field\":\"index\"}},\"id\":\"99281\",\"type\":\"HBar\"},{\"attributes\":{\"axis_label\":\"Feature Importance [determined by coeff * mean(x)]\",\"coordinates\":null,\"formatter\":{\"id\":\"99283\"},\"group\":null,\"major_label_policy\":{\"id\":\"99284\"},\"ticker\":{\"id\":\"99254\"}},\"id\":\"99253\",\"type\":\"LinearAxis\"},{\"attributes\":{\"axis_label\":\"Features\",\"coordinates\":null,\"formatter\":{\"id\":\"99286\"},\"group\":null,\"major_label_policy\":{\"id\":\"99287\"},\"ticker\":{\"id\":\"99258\"}},\"id\":\"99257\",\"type\":\"CategoricalAxis\"},{\"attributes\":{\"child\":{\"id\":\"99299\"},\"name\":\"shap_values\",\"title\":\"shap_values\"},\"id\":\"99300\",\"type\":\"Panel\"},{\"attributes\":{\"height\":509,\"margin\":[5,5,5,5],\"name\":\"shap_values\",\"text\":\"&lt;img src=&quot;data:image/png;base64,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&quot; width=&quot;800px&quot; height=&quot;509px&quot; alt=&quot;&quot;&gt;&lt;/img&gt;\",\"width\":800},\"id\":\"99299\",\"type\":\"panel.models.markup.HTML\"},{\"attributes\":{},\"id\":\"99249\",\"type\":\"LinearScale\"},{\"attributes\":{},\"id\":\"99295\",\"type\":\"UnionRenderers\"},{\"attributes\":{\"client_comm_id\":\"690d43aa157d4a319d7af8eee6ac4053\",\"comm_id\":\"cec25eeddea04d15a9d3fb0b506bdb9c\",\"plot_id\":\"99240\"},\"id\":\"99331\",\"type\":\"panel.models.comm_manager.CommManager\"},{\"attributes\":{},\"id\":\"99283\",\"type\":\"BasicTickFormatter\"},{\"attributes\":{},\"id\":\"99261\",\"type\":\"PanTool\"},{\"attributes\":{\"fill_color\":{\"value\":\"#30a2da\"},\"hatch_color\":{\"value\":\"#30a2da\"},\"height\":{\"value\":0.8},\"right\":{\"field\":\"importance\"},\"y\":{\"field\":\"index\"}},\"id\":\"99276\",\"type\":\"HBar\"},{\"attributes\":{},\"id\":\"99274\",\"type\":\"Selection\"},{\"attributes\":{\"axis\":{\"id\":\"99253\"},\"coordinates\":null,\"grid_line_color\":null,\"group\":null,\"ticker\":null},\"id\":\"99256\",\"type\":\"Grid\"},{\"attributes\":{\"coordinates\":null,\"group\":null,\"text\":\"Feature Importances from LassoCV\",\"text_color\":\"black\",\"text_font_size\":\"12pt\"},\"id\":\"99245\",\"type\":\"Title\"},{\"attributes\":{\"source\":{\"id\":\"99273\"}},\"id\":\"99280\",\"type\":\"CDSView\"},{\"attributes\":{},\"id\":\"99254\",\"type\":\"BasicTicker\"},{\"attributes\":{\"bottom_units\":\"screen\",\"coordinates\":null,\"fill_alpha\":0.5,\"fill_color\":\"lightgrey\",\"group\":null,\"left_units\":\"screen\",\"level\":\"overlay\",\"line_alpha\":1.0,\"line_color\":\"black\",\"line_dash\":[4,4],\"line_width\":2,\"right_units\":\"screen\",\"syncable\":false,\"top_units\":\"screen\"},\"id\":\"99265\",\"type\":\"BoxAnnotation\"},{\"attributes\":{\"margin\":[0,0,0,0],\"tabs\":[{\"id\":\"99298\"},{\"id\":\"99300\"}]},\"id\":\"99240\",\"type\":\"panel.models.tabs.Tabs\"},{\"attributes\":{},\"id\":\"99251\",\"type\":\"CategoricalScale\"},{\"attributes\":{\"coordinates\":null,\"data_source\":{\"id\":\"99273\"},\"glyph\":{\"id\":\"99276\"},\"group\":null,\"hover_glyph\":null,\"muted_glyph\":{\"id\":\"99278\"},\"nonselection_glyph\":{\"id\":\"99277\"},\"selection_glyph\":{\"id\":\"99281\"},\"view\":{\"id\":\"99280\"}},\"id\":\"99279\",\"type\":\"GlyphRenderer\"},{\"attributes\":{\"child\":{\"id\":\"99244\"},\"name\":\"from_model\",\"title\":\"from_model\"},\"id\":\"99298\",\"type\":\"Panel\"},{\"attributes\":{},\"id\":\"99286\",\"type\":\"CategoricalTickFormatter\"},{\"attributes\":{\"fill_alpha\":{\"value\":0.2},\"fill_color\":{\"value\":\"#30a2da\"},\"hatch_alpha\":{\"value\":0.2},\"hatch_color\":{\"value\":\"#30a2da\"},\"height\":{\"value\":0.8},\"line_alpha\":{\"value\":0.2},\"right\":{\"field\":\"importance\"},\"y\":{\"field\":\"index\"}},\"id\":\"99278\",\"type\":\"HBar\"},{\"attributes\":{\"below\":[{\"id\":\"99253\"}],\"center\":[{\"id\":\"99256\"},{\"id\":\"99259\"}],\"height\":300,\"left\":[{\"id\":\"99257\"}],\"margin\":[5,5,5,5],\"min_border_bottom\":10,\"min_border_left\":10,\"min_border_right\":10,\"min_border_top\":10,\"renderers\":[{\"id\":\"99279\"}],\"sizing_mode\":\"fixed\",\"title\":{\"id\":\"99245\"},\"toolbar\":{\"id\":\"99266\"},\"width\":700,\"x_range\":{\"id\":\"99241\"},\"x_scale\":{\"id\":\"99249\"},\"y_range\":{\"id\":\"99242\"},\"y_scale\":{\"id\":\"99251\"}},\"id\":\"99244\",\"subtype\":\"Figure\",\"type\":\"Plot\"},{\"attributes\":{},\"id\":\"99287\",\"type\":\"AllLabels\"},{\"attributes\":{\"data\":{\"importance\":{\"__ndarray__\":\"AAAAAAAAAAAAAAAAAAAAAAAAAAAAAACAAAAAAAAAAIAAAAAAAAAAAAAAAAAAAAAAyZbritZA70AEQAhFhJf2QPmWb/nukQlB\",\"dtype\":\"float64\",\"order\":\"little\",\"shape\":[9]},\"index\":[\"Average Price A\",\"Average Price B\",\"Average Price D\",\"Average Price H\",\"Average Price Others\",\"total_post_0W\",\"total_0W\",\"total_5W\",\"total_post_50W\"]},\"selected\":{\"id\":\"99274\"},\"selection_policy\":{\"id\":\"99295\"}},\"id\":\"99273\",\"type\":\"ColumnDataSource\"},{\"attributes\":{\"tools\":[{\"id\":\"99243\"},{\"id\":\"99260\"},{\"id\":\"99261\"},{\"id\":\"99262\"},{\"id\":\"99263\"},{\"id\":\"99264\"}]},\"id\":\"99266\",\"type\":\"Toolbar\"}],\"root_ids\":[\"99240\",\"99331\"]},\"title\":\"Bokeh Application\",\"version\":\"2.4.3\"}};\n",
       "    var render_items = [{\"docid\":\"02ace3a2-ffa7-4179-8aec-c861edc8afe4\",\"root_ids\":[\"99240\"],\"roots\":{\"99240\":\"17f1e31a-0ebf-479c-bd8f-f07fe7fd47f4\"}}];\n",
       "    root.Bokeh.embed.embed_items_notebook(docs_json, render_items);\n",
       "  }\n",
       "  if (root.Bokeh !== undefined && root.Bokeh.Panel !== undefined) {\n",
       "    embed_document(root);\n",
       "  } else {\n",
       "    var attempts = 0;\n",
       "    var timer = setInterval(function(root) {\n",
       "      if (root.Bokeh !== undefined && root.Bokeh.Panel !== undefined) {\n",
       "        clearInterval(timer);\n",
       "        embed_document(root);\n",
       "      } else if (document.readyState == \"complete\") {\n",
       "        attempts++;\n",
       "        if (attempts > 200) {\n",
       "          clearInterval(timer);\n",
       "          console.log(\"Bokeh: ERROR: Unable to run BokehJS code because BokehJS library is missing\");\n",
       "        }\n",
       "      }\n",
       "    }, 25, root)\n",
       "  }\n",
       "})(window);</script>"
      ],
      "text/plain": [
       "Tabs\n",
       "    [0] HoloViews(Bars, name='from_model')\n",
       "    [1] Matplotlib(Figure, name='shap_values')"
      ]
     },
     "execution_count": 160,
     "metadata": {
      "application/vnd.holoviews_exec.v0+json": {
       "id": "99240"
      }
     },
     "output_type": "execute_result"
    }
   ],
   "source": [
    "out = eda.get_feature_importances(X_train, y_train, y_continuous=True)\n",
    "display_as_tabs([(k, v) for k,v in out.items()])"
   ]
  },
  {
   "cell_type": "markdown",
   "metadata": {},
   "source": [
    "Key drivers report like feature importance, bivariate plots can be obtained as below"
   ]
  },
  {
   "cell_type": "code",
   "execution_count": 161,
   "metadata": {},
   "outputs": [],
   "source": [
    "reports.key_drivers(X_train,y_train, './key_drivers_report.html', y_continuous=True)"
   ]
  },
  {
   "cell_type": "markdown",
   "metadata": {},
   "source": [
    "**Dev Notes**\n",
    "<details>\n",
    "    \n",
    "- The SHAP plots and bivariate plots in key drivers reports can be obtained by including quick=False as a parameter to key_drivers function call. \n",
    "- SHAP plots and bivariate plots often take long depending on data shape.\n",
    "- The plot with shap is present [here](https://drive.google.com/file/d/1JOTMBLiv3LEqZ-kxZz0RokW9v5UyiGva/view?usp=sharing)\n",
    "\n",
    "</details>"
   ]
  },
  {
   "cell_type": "markdown",
   "metadata": {},
   "source": [
    "\n",
    "All the plots like feature analysis, interaction, key drivers can be obtained as a single plot using data exploration method as shown below. The output from this is available [here](https://drive.google.com/file/d/1209MzmSSEhiTYuPfHpaVXFXUVbkaJm0B/view?usp=sharing)"
   ]
  },
  {
   "cell_type": "code",
   "execution_count": 162,
   "metadata": {},
   "outputs": [],
   "source": [
    "reports.data_exploration(X_train,y_train,'./data_exploration_report.html', y_continuous=True)"
   ]
  },
  {
   "cell_type": "markdown",
   "metadata": {},
   "source": [
    "# 4 Modelling"
   ]
  },
  {
   "cell_type": "markdown",
   "metadata": {},
   "source": [
    "## 4.1 Modelling - Linear Regression"
   ]
  },
  {
   "cell_type": "markdown",
   "metadata": {},
   "source": [
    "### 4.1.1 Feature Selection(Specific to Regression)\n",
    "\n",
    "- Selecting Features specific to regression\n",
    "- Removed highly corelated variables\n",
    "- Removed Units because of causality"
   ]
  },
  {
   "cell_type": "code",
   "execution_count": 163,
   "metadata": {},
   "outputs": [],
   "source": [
    "X_train = remove_correlated_vars(X_train)"
   ]
  },
  {
   "cell_type": "markdown",
   "metadata": {},
   "source": [
    "### 4.1.2 Data transformations"
   ]
  },
  {
   "cell_type": "code",
   "execution_count": 164,
   "metadata": {},
   "outputs": [],
   "source": [
    "# Custom Transformations like these can be utilised\n",
    "def _custom_data_transform(df, cols2keep=None):\n",
    "    \"\"\"Transformation to drop some columns in the data\n",
    "    \n",
    "    Parameters\n",
    "    ----------\n",
    "        df - pd.DataFrame\n",
    "        cols2keep - columns to keep in the dataframe\n",
    "    \"\"\"\n",
    "    cols2keep = cols2keep or []\n",
    "    if len(cols2keep):\n",
    "        return (df\n",
    "                .select_columns(cols2keep))\n",
    "    else:\n",
    "        return df"
   ]
  },
  {
   "cell_type": "markdown",
   "metadata": {},
   "source": [
    "### 4.1.3 Model training pipeline\n",
    "\n",
    "- Here we focus on creating a collection of pipelines that can be used for training respective models.\n",
    "- Each model pipeline will essentially be of the form\n",
    "```\n",
    "[\n",
    "('preprocessing', preprocessing_pipeline),\n",
    "('feature_selection', feature_selection_pipeline),\n",
    "('estimator', estimator),\n",
    "]\n",
    "```"
   ]
  },
  {
   "cell_type": "markdown",
   "metadata": {},
   "source": [
    "### 4.1.4 Model Pipeline Build\n",
    "\n",
    "- This will be part of the production code (training only)."
   ]
  },
  {
   "cell_type": "code",
   "execution_count": 165,
   "metadata": {},
   "outputs": [
    {
     "data": {
      "text/html": [
       "<style>#sk-container-id-12 {color: black;background-color: white;}#sk-container-id-12 pre{padding: 0;}#sk-container-id-12 div.sk-toggleable {background-color: white;}#sk-container-id-12 label.sk-toggleable__label {cursor: pointer;display: block;width: 100%;margin-bottom: 0;padding: 0.3em;box-sizing: border-box;text-align: center;}#sk-container-id-12 label.sk-toggleable__label-arrow:before {content: \"▸\";float: left;margin-right: 0.25em;color: #696969;}#sk-container-id-12 label.sk-toggleable__label-arrow:hover:before {color: black;}#sk-container-id-12 div.sk-estimator:hover label.sk-toggleable__label-arrow:before {color: black;}#sk-container-id-12 div.sk-toggleable__content {max-height: 0;max-width: 0;overflow: hidden;text-align: left;background-color: #f0f8ff;}#sk-container-id-12 div.sk-toggleable__content pre {margin: 0.2em;color: black;border-radius: 0.25em;background-color: #f0f8ff;}#sk-container-id-12 input.sk-toggleable__control:checked~div.sk-toggleable__content {max-height: 200px;max-width: 100%;overflow: auto;}#sk-container-id-12 input.sk-toggleable__control:checked~label.sk-toggleable__label-arrow:before {content: \"▾\";}#sk-container-id-12 div.sk-estimator input.sk-toggleable__control:checked~label.sk-toggleable__label {background-color: #d4ebff;}#sk-container-id-12 div.sk-label input.sk-toggleable__control:checked~label.sk-toggleable__label {background-color: #d4ebff;}#sk-container-id-12 input.sk-hidden--visually {border: 0;clip: rect(1px 1px 1px 1px);clip: rect(1px, 1px, 1px, 1px);height: 1px;margin: -1px;overflow: hidden;padding: 0;position: absolute;width: 1px;}#sk-container-id-12 div.sk-estimator {font-family: monospace;background-color: #f0f8ff;border: 1px dotted black;border-radius: 0.25em;box-sizing: border-box;margin-bottom: 0.5em;}#sk-container-id-12 div.sk-estimator:hover {background-color: #d4ebff;}#sk-container-id-12 div.sk-parallel-item::after {content: \"\";width: 100%;border-bottom: 1px solid gray;flex-grow: 1;}#sk-container-id-12 div.sk-label:hover label.sk-toggleable__label {background-color: #d4ebff;}#sk-container-id-12 div.sk-serial::before {content: \"\";position: absolute;border-left: 1px solid gray;box-sizing: border-box;top: 0;bottom: 0;left: 50%;z-index: 0;}#sk-container-id-12 div.sk-serial {display: flex;flex-direction: column;align-items: center;background-color: white;padding-right: 0.2em;padding-left: 0.2em;position: relative;}#sk-container-id-12 div.sk-item {position: relative;z-index: 1;}#sk-container-id-12 div.sk-parallel {display: flex;align-items: stretch;justify-content: center;background-color: white;position: relative;}#sk-container-id-12 div.sk-item::before, #sk-container-id-12 div.sk-parallel-item::before {content: \"\";position: absolute;border-left: 1px solid gray;box-sizing: border-box;top: 0;bottom: 0;left: 50%;z-index: -1;}#sk-container-id-12 div.sk-parallel-item {display: flex;flex-direction: column;z-index: 1;position: relative;background-color: white;}#sk-container-id-12 div.sk-parallel-item:first-child::after {align-self: flex-end;width: 50%;}#sk-container-id-12 div.sk-parallel-item:last-child::after {align-self: flex-start;width: 50%;}#sk-container-id-12 div.sk-parallel-item:only-child::after {width: 0;}#sk-container-id-12 div.sk-dashed-wrapped {border: 1px dashed gray;margin: 0 0.4em 0.5em 0.4em;box-sizing: border-box;padding-bottom: 0.4em;background-color: white;}#sk-container-id-12 div.sk-label label {font-family: monospace;font-weight: bold;display: inline-block;line-height: 1.2em;}#sk-container-id-12 div.sk-label-container {text-align: center;}#sk-container-id-12 div.sk-container {/* jupyter's `normalize.less` sets `[hidden] { display: none; }` but bootstrap.min.css set `[hidden] { display: none !important; }` so we also need the `!important` here to be able to override the default hidden behavior on the sphinx rendered scikit-learn.org. See: https://github.com/scikit-learn/scikit-learn/issues/21755 */display: inline-block !important;position: relative;}#sk-container-id-12 div.sk-text-repr-fallback {display: none;}</style><div id=\"sk-container-id-12\" class=\"sk-top-container\"><div class=\"sk-text-repr-fallback\"><pre>Pipeline(steps=[(&#x27;estimator&#x27;, SKLStatsmodelOLS())])</pre><b>In a Jupyter environment, please rerun this cell to show the HTML representation or trust the notebook. <br />On GitHub, the HTML representation is unable to render, please try loading this page with nbviewer.org.</b></div><div class=\"sk-container\" hidden><div class=\"sk-item sk-dashed-wrapped\"><div class=\"sk-label-container\"><div class=\"sk-label sk-toggleable\"><input class=\"sk-toggleable__control sk-hidden--visually\" id=\"sk-estimator-id-23\" type=\"checkbox\" ><label for=\"sk-estimator-id-23\" class=\"sk-toggleable__label sk-toggleable__label-arrow\">Pipeline</label><div class=\"sk-toggleable__content\"><pre>Pipeline(steps=[(&#x27;estimator&#x27;, SKLStatsmodelOLS())])</pre></div></div></div><div class=\"sk-serial\"><div class=\"sk-item\"><div class=\"sk-estimator sk-toggleable\"><input class=\"sk-toggleable__control sk-hidden--visually\" id=\"sk-estimator-id-24\" type=\"checkbox\" ><label for=\"sk-estimator-id-24\" class=\"sk-toggleable__label sk-toggleable__label-arrow\">SKLStatsmodelOLS</label><div class=\"sk-toggleable__content\"><pre>SKLStatsmodelOLS()</pre></div></div></div></div></div></div></div>"
      ],
      "text/plain": [
       "Pipeline(steps=[('estimator', SKLStatsmodelOLS())])"
      ]
     },
     "execution_count": 165,
     "metadata": {},
     "output_type": "execute_result"
    }
   ],
   "source": [
    "reg_ppln_ols = Pipeline([\n",
    "    ('estimator', SKLStatsmodelOLS())\n",
    "])\n",
    "reg_ppln_ols.fit(X_train1, y_train.values.ravel())\n"
   ]
  },
  {
   "cell_type": "code",
   "execution_count": 166,
   "metadata": {},
   "outputs": [
    {
     "data": {
      "text/html": [
       "<table class=\"simpletable\">\n",
       "<caption>OLS Regression Results</caption>\n",
       "<tr>\n",
       "  <th>Dep. Variable:</th>            <td>y</td>        <th>  R-squared:         </th> <td>   0.724</td>\n",
       "</tr>\n",
       "<tr>\n",
       "  <th>Model:</th>                   <td>OLS</td>       <th>  Adj. R-squared:    </th> <td>   0.713</td>\n",
       "</tr>\n",
       "<tr>\n",
       "  <th>Method:</th>             <td>Least Squares</td>  <th>  F-statistic:       </th> <td>   65.16</td>\n",
       "</tr>\n",
       "<tr>\n",
       "  <th>Date:</th>             <td>Mon, 03 Jul 2023</td> <th>  Prob (F-statistic):</th> <td>3.36e-39</td>\n",
       "</tr>\n",
       "<tr>\n",
       "  <th>Time:</th>                 <td>13:55:15</td>     <th>  Log-Likelihood:    </th> <td> -2008.8</td>\n",
       "</tr>\n",
       "<tr>\n",
       "  <th>No. Observations:</th>      <td>   156</td>      <th>  AIC:               </th> <td>   4032.</td>\n",
       "</tr>\n",
       "<tr>\n",
       "  <th>Df Residuals:</th>          <td>   149</td>      <th>  BIC:               </th> <td>   4053.</td>\n",
       "</tr>\n",
       "<tr>\n",
       "  <th>Df Model:</th>              <td>     6</td>      <th>                     </th>     <td> </td>   \n",
       "</tr>\n",
       "<tr>\n",
       "  <th>Covariance Type:</th>      <td>nonrobust</td>    <th>                     </th>     <td> </td>   \n",
       "</tr>\n",
       "</table>\n",
       "<table class=\"simpletable\">\n",
       "<tr>\n",
       "            <td></td>              <th>coef</th>     <th>std err</th>      <th>t</th>      <th>P>|t|</th>  <th>[0.025</th>    <th>0.975]</th>  \n",
       "</tr>\n",
       "<tr>\n",
       "  <th>intercept</th>            <td> 2.791e+06</td> <td> 3.32e+05</td> <td>    8.419</td> <td> 0.000</td> <td> 2.14e+06</td> <td> 3.45e+06</td>\n",
       "</tr>\n",
       "<tr>\n",
       "  <th>Average Price A</th>      <td>-1.471e+05</td> <td> 3.61e+04</td> <td>   -4.080</td> <td> 0.000</td> <td>-2.18e+05</td> <td>-7.58e+04</td>\n",
       "</tr>\n",
       "<tr>\n",
       "  <th>Average Price B</th>      <td> 3.012e+05</td> <td> 3.49e+04</td> <td>    8.619</td> <td> 0.000</td> <td> 2.32e+05</td> <td>  3.7e+05</td>\n",
       "</tr>\n",
       "<tr>\n",
       "  <th>Average Price H</th>      <td>-1.066e+05</td> <td> 1.21e+04</td> <td>   -8.779</td> <td> 0.000</td> <td>-1.31e+05</td> <td>-8.26e+04</td>\n",
       "</tr>\n",
       "<tr>\n",
       "  <th>Average Price Others</th> <td> -1.11e+05</td> <td> 4.89e+04</td> <td>   -2.268</td> <td> 0.025</td> <td>-2.08e+05</td> <td>-1.43e+04</td>\n",
       "</tr>\n",
       "<tr>\n",
       "  <th>total_0W</th>             <td>   -0.5165</td> <td>    0.542</td> <td>   -0.954</td> <td> 0.342</td> <td>   -1.587</td> <td>    0.554</td>\n",
       "</tr>\n",
       "<tr>\n",
       "  <th>total_post_50W</th>       <td>    5.8904</td> <td>    5.744</td> <td>    1.026</td> <td> 0.307</td> <td>   -5.459</td> <td>   17.240</td>\n",
       "</tr>\n",
       "</table>\n",
       "<table class=\"simpletable\">\n",
       "<tr>\n",
       "  <th>Omnibus:</th>       <td>13.173</td> <th>  Durbin-Watson:     </th> <td>   1.978</td>\n",
       "</tr>\n",
       "<tr>\n",
       "  <th>Prob(Omnibus):</th> <td> 0.001</td> <th>  Jarque-Bera (JB):  </th> <td>  25.071</td>\n",
       "</tr>\n",
       "<tr>\n",
       "  <th>Skew:</th>          <td>-0.361</td> <th>  Prob(JB):          </th> <td>3.60e-06</td>\n",
       "</tr>\n",
       "<tr>\n",
       "  <th>Kurtosis:</th>      <td> 4.826</td> <th>  Cond. No.          </th> <td>2.40e+06</td>\n",
       "</tr>\n",
       "</table><br/><br/>Notes:<br/>[1] Standard Errors assume that the covariance matrix of the errors is correctly specified.<br/>[2] The condition number is large, 2.4e+06. This might indicate that there are<br/>strong multicollinearity or other numerical problems."
      ],
      "text/plain": [
       "<class 'statsmodels.iolib.summary.Summary'>\n",
       "\"\"\"\n",
       "                            OLS Regression Results                            \n",
       "==============================================================================\n",
       "Dep. Variable:                      y   R-squared:                       0.724\n",
       "Model:                            OLS   Adj. R-squared:                  0.713\n",
       "Method:                 Least Squares   F-statistic:                     65.16\n",
       "Date:                Mon, 03 Jul 2023   Prob (F-statistic):           3.36e-39\n",
       "Time:                        13:55:15   Log-Likelihood:                -2008.8\n",
       "No. Observations:                 156   AIC:                             4032.\n",
       "Df Residuals:                     149   BIC:                             4053.\n",
       "Df Model:                           6                                         \n",
       "Covariance Type:            nonrobust                                         \n",
       "========================================================================================\n",
       "                           coef    std err          t      P>|t|      [0.025      0.975]\n",
       "----------------------------------------------------------------------------------------\n",
       "intercept             2.791e+06   3.32e+05      8.419      0.000    2.14e+06    3.45e+06\n",
       "Average Price A      -1.471e+05   3.61e+04     -4.080      0.000   -2.18e+05   -7.58e+04\n",
       "Average Price B       3.012e+05   3.49e+04      8.619      0.000    2.32e+05     3.7e+05\n",
       "Average Price H      -1.066e+05   1.21e+04     -8.779      0.000   -1.31e+05   -8.26e+04\n",
       "Average Price Others  -1.11e+05   4.89e+04     -2.268      0.025   -2.08e+05   -1.43e+04\n",
       "total_0W                -0.5165      0.542     -0.954      0.342      -1.587       0.554\n",
       "total_post_50W           5.8904      5.744      1.026      0.307      -5.459      17.240\n",
       "==============================================================================\n",
       "Omnibus:                       13.173   Durbin-Watson:                   1.978\n",
       "Prob(Omnibus):                  0.001   Jarque-Bera (JB):               25.071\n",
       "Skew:                          -0.361   Prob(JB):                     3.60e-06\n",
       "Kurtosis:                       4.826   Cond. No.                     2.40e+06\n",
       "==============================================================================\n",
       "\n",
       "Notes:\n",
       "[1] Standard Errors assume that the covariance matrix of the errors is correctly specified.\n",
       "[2] The condition number is large, 2.4e+06. This might indicate that there are\n",
       "strong multicollinearity or other numerical problems.\n",
       "\"\"\""
      ]
     },
     "execution_count": 166,
     "metadata": {},
     "output_type": "execute_result"
    }
   ],
   "source": [
    "reg_ppln_ols['estimator'].summary()"
   ]
  },
  {
   "cell_type": "code",
   "execution_count": 168,
   "metadata": {},
   "outputs": [
    {
     "name": "stdout",
     "output_type": "stream",
     "text": [
      "                            OLS Regression Results                            \n",
      "==============================================================================\n",
      "Dep. Variable:                      y   R-squared:                       0.724\n",
      "Model:                            OLS   Adj. R-squared:                  0.713\n",
      "Method:                 Least Squares   F-statistic:                     65.16\n",
      "Date:                Mon, 03 Jul 2023   Prob (F-statistic):           3.36e-39\n",
      "Time:                        13:55:20   Log-Likelihood:                -2008.8\n",
      "No. Observations:                 156   AIC:                             4032.\n",
      "Df Residuals:                     149   BIC:                             4053.\n",
      "Df Model:                           6                                         \n",
      "Covariance Type:            nonrobust                                         \n",
      "========================================================================================\n",
      "                           coef    std err          t      P>|t|      [0.025      0.975]\n",
      "----------------------------------------------------------------------------------------\n",
      "intercept             2.791e+06   3.32e+05      8.419      0.000    2.14e+06    3.45e+06\n",
      "Average Price A      -1.471e+05   3.61e+04     -4.080      0.000   -2.18e+05   -7.58e+04\n",
      "Average Price B       3.012e+05   3.49e+04      8.619      0.000    2.32e+05     3.7e+05\n",
      "Average Price H      -1.066e+05   1.21e+04     -8.779      0.000   -1.31e+05   -8.26e+04\n",
      "Average Price Others  -1.11e+05   4.89e+04     -2.268      0.025   -2.08e+05   -1.43e+04\n",
      "total_0W                -0.5165      0.542     -0.954      0.342      -1.587       0.554\n",
      "total_post_50W           5.8904      5.744      1.026      0.307      -5.459      17.240\n",
      "==============================================================================\n",
      "Omnibus:                       13.173   Durbin-Watson:                   1.978\n",
      "Prob(Omnibus):                  0.001   Jarque-Bera (JB):               25.071\n",
      "Skew:                          -0.361   Prob(JB):                     3.60e-06\n",
      "Kurtosis:                       4.826   Cond. No.                     2.40e+06\n",
      "==============================================================================\n",
      "\n",
      "Notes:\n",
      "[1] Standard Errors assume that the covariance matrix of the errors is correctly specified.\n",
      "[2] The condition number is large, 2.4e+06. This might indicate that there are\n",
      "strong multicollinearity or other numerical problems.\n"
     ]
    }
   ],
   "source": [
    "reg_ppln_ols1 = Pipeline([\n",
    "    ('estimator', SKLStatsmodelOLS())\n",
    "])\n",
    "\n",
    "X_train1 = X_train.drop(columns = ['Average Price D','total_5W','total_post_0W'])\n",
    "X_test1 = X_test.drop(columns = ['Average Price D','total_5W','total_post_0W'])\n",
    "\n",
    "reg_ppln_ols1.fit(X_train1, y_train.values.ravel())\n",
    "\n",
    "# Removing low p-value\n",
    "print(reg_ppln_ols1['estimator'].summary())\n",
    "\n"
   ]
  },
  {
   "cell_type": "markdown",
   "metadata": {},
   "source": [
    "### 4.1.5 Model Evaluation(Linear Model)\n",
    "\n",
    "This will be part of the production code."
   ]
  },
  {
   "cell_type": "code",
   "execution_count": 116,
   "metadata": {},
   "outputs": [
    {
     "data": {
      "text/html": [
       "<style>#sk-container-id-11 {color: black;background-color: white;}#sk-container-id-11 pre{padding: 0;}#sk-container-id-11 div.sk-toggleable {background-color: white;}#sk-container-id-11 label.sk-toggleable__label {cursor: pointer;display: block;width: 100%;margin-bottom: 0;padding: 0.3em;box-sizing: border-box;text-align: center;}#sk-container-id-11 label.sk-toggleable__label-arrow:before {content: \"▸\";float: left;margin-right: 0.25em;color: #696969;}#sk-container-id-11 label.sk-toggleable__label-arrow:hover:before {color: black;}#sk-container-id-11 div.sk-estimator:hover label.sk-toggleable__label-arrow:before {color: black;}#sk-container-id-11 div.sk-toggleable__content {max-height: 0;max-width: 0;overflow: hidden;text-align: left;background-color: #f0f8ff;}#sk-container-id-11 div.sk-toggleable__content pre {margin: 0.2em;color: black;border-radius: 0.25em;background-color: #f0f8ff;}#sk-container-id-11 input.sk-toggleable__control:checked~div.sk-toggleable__content {max-height: 200px;max-width: 100%;overflow: auto;}#sk-container-id-11 input.sk-toggleable__control:checked~label.sk-toggleable__label-arrow:before {content: \"▾\";}#sk-container-id-11 div.sk-estimator input.sk-toggleable__control:checked~label.sk-toggleable__label {background-color: #d4ebff;}#sk-container-id-11 div.sk-label input.sk-toggleable__control:checked~label.sk-toggleable__label {background-color: #d4ebff;}#sk-container-id-11 input.sk-hidden--visually {border: 0;clip: rect(1px 1px 1px 1px);clip: rect(1px, 1px, 1px, 1px);height: 1px;margin: -1px;overflow: hidden;padding: 0;position: absolute;width: 1px;}#sk-container-id-11 div.sk-estimator {font-family: monospace;background-color: #f0f8ff;border: 1px dotted black;border-radius: 0.25em;box-sizing: border-box;margin-bottom: 0.5em;}#sk-container-id-11 div.sk-estimator:hover {background-color: #d4ebff;}#sk-container-id-11 div.sk-parallel-item::after {content: \"\";width: 100%;border-bottom: 1px solid gray;flex-grow: 1;}#sk-container-id-11 div.sk-label:hover label.sk-toggleable__label {background-color: #d4ebff;}#sk-container-id-11 div.sk-serial::before {content: \"\";position: absolute;border-left: 1px solid gray;box-sizing: border-box;top: 0;bottom: 0;left: 50%;z-index: 0;}#sk-container-id-11 div.sk-serial {display: flex;flex-direction: column;align-items: center;background-color: white;padding-right: 0.2em;padding-left: 0.2em;position: relative;}#sk-container-id-11 div.sk-item {position: relative;z-index: 1;}#sk-container-id-11 div.sk-parallel {display: flex;align-items: stretch;justify-content: center;background-color: white;position: relative;}#sk-container-id-11 div.sk-item::before, #sk-container-id-11 div.sk-parallel-item::before {content: \"\";position: absolute;border-left: 1px solid gray;box-sizing: border-box;top: 0;bottom: 0;left: 50%;z-index: -1;}#sk-container-id-11 div.sk-parallel-item {display: flex;flex-direction: column;z-index: 1;position: relative;background-color: white;}#sk-container-id-11 div.sk-parallel-item:first-child::after {align-self: flex-end;width: 50%;}#sk-container-id-11 div.sk-parallel-item:last-child::after {align-self: flex-start;width: 50%;}#sk-container-id-11 div.sk-parallel-item:only-child::after {width: 0;}#sk-container-id-11 div.sk-dashed-wrapped {border: 1px dashed gray;margin: 0 0.4em 0.5em 0.4em;box-sizing: border-box;padding-bottom: 0.4em;background-color: white;}#sk-container-id-11 div.sk-label label {font-family: monospace;font-weight: bold;display: inline-block;line-height: 1.2em;}#sk-container-id-11 div.sk-label-container {text-align: center;}#sk-container-id-11 div.sk-container {/* jupyter's `normalize.less` sets `[hidden] { display: none; }` but bootstrap.min.css set `[hidden] { display: none !important; }` so we also need the `!important` here to be able to override the default hidden behavior on the sphinx rendered scikit-learn.org. See: https://github.com/scikit-learn/scikit-learn/issues/21755 */display: inline-block !important;position: relative;}#sk-container-id-11 div.sk-text-repr-fallback {display: none;}</style><div id=\"sk-container-id-11\" class=\"sk-top-container\"><div class=\"sk-text-repr-fallback\"><pre>Pipeline(steps=[(&#x27;Linear Regression&#x27;, SKLStatsmodelOLS())])</pre><b>In a Jupyter environment, please rerun this cell to show the HTML representation or trust the notebook. <br />On GitHub, the HTML representation is unable to render, please try loading this page with nbviewer.org.</b></div><div class=\"sk-container\" hidden><div class=\"sk-item sk-dashed-wrapped\"><div class=\"sk-label-container\"><div class=\"sk-label sk-toggleable\"><input class=\"sk-toggleable__control sk-hidden--visually\" id=\"sk-estimator-id-21\" type=\"checkbox\" ><label for=\"sk-estimator-id-21\" class=\"sk-toggleable__label sk-toggleable__label-arrow\">Pipeline</label><div class=\"sk-toggleable__content\"><pre>Pipeline(steps=[(&#x27;Linear Regression&#x27;, SKLStatsmodelOLS())])</pre></div></div></div><div class=\"sk-serial\"><div class=\"sk-item\"><div class=\"sk-estimator sk-toggleable\"><input class=\"sk-toggleable__control sk-hidden--visually\" id=\"sk-estimator-id-22\" type=\"checkbox\" ><label for=\"sk-estimator-id-22\" class=\"sk-toggleable__label sk-toggleable__label-arrow\">SKLStatsmodelOLS</label><div class=\"sk-toggleable__content\"><pre>SKLStatsmodelOLS()</pre></div></div></div></div></div></div></div>"
      ],
      "text/plain": [
       "Pipeline(steps=[('Linear Regression', SKLStatsmodelOLS())])"
      ]
     },
     "execution_count": 116,
     "metadata": {},
     "output_type": "execute_result"
    }
   ],
   "source": [
    "reg_ppln_final = Pipeline([\n",
    "    ('Linear Regression', SKLStatsmodelOLS())\n",
    "])\n",
    "\n",
    "reg_ppln_final.fit(X_train1, y_train.values.ravel())"
   ]
  },
  {
   "cell_type": "code",
   "execution_count": 117,
   "metadata": {},
   "outputs": [],
   "source": [
    "reg_linear_report = RegressionReport(model=reg_ppln_final, x_train=X_train1, y_train=y_train, x_test= X_test1, y_test= y_test, refit=True)\n",
    "reg_linear_report.get_report(include_shap=False, file_path='regression_linear_model_report')"
   ]
  },
  {
   "cell_type": "markdown",
   "metadata": {},
   "source": [
    "**Dev Notes**\n",
    "Use SHAP for variable interpretability.\n",
    "<details>\n",
    "\n",
    "    1. Use SHAP=True to generate variable interpretability plots in the report\n",
    "    2. SHAP is recommended for non parameteric models such as RF, xgboost.\n",
    "    3. However, SHAP reports are time consuming depending on no.of records and model complexity.\n",
    "    \n",
    "A sample of regerssion report with SHAP can be found [here](https://drive.google.com/file/d/18RlQTsT1ze09Cgz-qpb4ha_cvyWbN5F5/view?usp=sharing).\n",
    "</details>"
   ]
  },
  {
   "cell_type": "markdown",
   "metadata": {},
   "source": [
    "### 4.1.6 Residual Analysis\n",
    "- After scoring the model, it is recommended to do a residual analysis to know the distribution of errors\n",
    "- we took a threshold of 30% above which it is marked as over prediction or underprediction\n",
    "- This will not be part of the production code."
   ]
  },
  {
   "cell_type": "code",
   "execution_count": 76,
   "metadata": {},
   "outputs": [],
   "source": [
    "threshold=0.3\n",
    "residual_analysis = X_test.copy()\n",
    "residual_analysis['prediction'] = reg_ppln_ols.predict(X_test)\n",
    "residual_analysis['actuals'] = y_test.reset_index(drop = True).iloc[:,0].values\n",
    "residual_analysis['forecast_flag'] = 'good'\n",
    "residual_analysis.loc[((residual_analysis['prediction'] > (1+threshold) * residual_analysis['actuals'])\\\n",
    "                       & (residual_analysis['actuals']>100)),'forecast_flag'] = 'over predict'\n",
    "residual_analysis.loc[((residual_analysis['prediction'] < (1-threshold) * residual_analysis['actuals'])\\\n",
    "                       & (residual_analysis['actuals']>100)),'forecast_flag'] = 'under predict'"
   ]
  },
  {
   "cell_type": "code",
   "execution_count": 77,
   "metadata": {},
   "outputs": [
    {
     "data": {},
     "metadata": {},
     "output_type": "display_data"
    },
    {
     "data": {
      "application/vnd.holoviews_exec.v0+json": "",
      "text/html": [
       "<div id='40592'>\n",
       "  <div class=\"bk-root\" id=\"47db11ff-ab15-464b-bfb7-3531839ab9b4\" data-root-id=\"40592\"></div>\n",
       "</div>\n",
       "<script type=\"application/javascript\">(function(root) {\n",
       "  function embed_document(root) {\n",
       "    var docs_json = {\"2df84135-caee-4108-a383-f5ccdd570ef7\":{\"defs\":[{\"extends\":null,\"module\":null,\"name\":\"ReactiveHTML1\",\"overrides\":[],\"properties\":[]},{\"extends\":null,\"module\":null,\"name\":\"FlexBox1\",\"overrides\":[],\"properties\":[{\"default\":\"flex-start\",\"kind\":null,\"name\":\"align_content\"},{\"default\":\"flex-start\",\"kind\":null,\"name\":\"align_items\"},{\"default\":\"row\",\"kind\":null,\"name\":\"flex_direction\"},{\"default\":\"wrap\",\"kind\":null,\"name\":\"flex_wrap\"},{\"default\":\"flex-start\",\"kind\":null,\"name\":\"justify_content\"}]},{\"extends\":null,\"module\":null,\"name\":\"GridStack1\",\"overrides\":[],\"properties\":[{\"default\":\"warn\",\"kind\":null,\"name\":\"mode\"},{\"default\":null,\"kind\":null,\"name\":\"ncols\"},{\"default\":null,\"kind\":null,\"name\":\"nrows\"},{\"default\":true,\"kind\":null,\"name\":\"allow_resize\"},{\"default\":true,\"kind\":null,\"name\":\"allow_drag\"},{\"default\":[],\"kind\":null,\"name\":\"state\"}]},{\"extends\":null,\"module\":null,\"name\":\"click1\",\"overrides\":[],\"properties\":[{\"default\":\"\",\"kind\":null,\"name\":\"terminal_output\"},{\"default\":\"\",\"kind\":null,\"name\":\"debug_name\"},{\"default\":0,\"kind\":null,\"name\":\"clears\"}]},{\"extends\":null,\"module\":null,\"name\":\"NotificationAreaBase1\",\"overrides\":[],\"properties\":[{\"default\":\"bottom-right\",\"kind\":null,\"name\":\"position\"},{\"default\":0,\"kind\":null,\"name\":\"_clear\"}]},{\"extends\":null,\"module\":null,\"name\":\"NotificationArea1\",\"overrides\":[],\"properties\":[{\"default\":[],\"kind\":null,\"name\":\"notifications\"},{\"default\":\"bottom-right\",\"kind\":null,\"name\":\"position\"},{\"default\":0,\"kind\":null,\"name\":\"_clear\"},{\"default\":[{\"background\":\"#ffc107\",\"icon\":{\"className\":\"fas fa-exclamation-triangle\",\"color\":\"white\",\"tagName\":\"i\"},\"type\":\"warning\"},{\"background\":\"#007bff\",\"icon\":{\"className\":\"fas fa-info-circle\",\"color\":\"white\",\"tagName\":\"i\"},\"type\":\"info\"}],\"kind\":null,\"name\":\"types\"}]},{\"extends\":null,\"module\":null,\"name\":\"Notification\",\"overrides\":[],\"properties\":[{\"default\":null,\"kind\":null,\"name\":\"background\"},{\"default\":3000,\"kind\":null,\"name\":\"duration\"},{\"default\":null,\"kind\":null,\"name\":\"icon\"},{\"default\":\"\",\"kind\":null,\"name\":\"message\"},{\"default\":null,\"kind\":null,\"name\":\"notification_type\"},{\"default\":false,\"kind\":null,\"name\":\"_destroyed\"}]},{\"extends\":null,\"module\":null,\"name\":\"TemplateActions1\",\"overrides\":[],\"properties\":[{\"default\":0,\"kind\":null,\"name\":\"open_modal\"},{\"default\":0,\"kind\":null,\"name\":\"close_modal\"}]},{\"extends\":null,\"module\":null,\"name\":\"MaterialTemplateActions1\",\"overrides\":[],\"properties\":[{\"default\":0,\"kind\":null,\"name\":\"open_modal\"},{\"default\":0,\"kind\":null,\"name\":\"close_modal\"}]}],\"roots\":{\"references\":[{\"attributes\":{},\"id\":\"40648\",\"type\":\"UnionRenderers\"},{\"attributes\":{},\"id\":\"40634\",\"type\":\"Selection\"},{\"attributes\":{\"below\":[{\"id\":\"40606\"}],\"center\":[{\"id\":\"40609\"},{\"id\":\"40613\"},{\"id\":\"40651\"}],\"height\":400,\"left\":[{\"id\":\"40610\"}],\"margin\":[5,5,5,5],\"min_border_bottom\":10,\"min_border_left\":10,\"min_border_right\":10,\"min_border_top\":10,\"renderers\":[{\"id\":\"40639\"}],\"sizing_mode\":\"fixed\",\"title\":{\"id\":\"40598\"},\"toolbar\":{\"id\":\"40620\"},\"width\":800,\"x_range\":{\"id\":\"40594\"},\"x_scale\":{\"id\":\"40602\"},\"y_range\":{\"id\":\"40595\"},\"y_scale\":{\"id\":\"40604\"}},\"id\":\"40597\",\"subtype\":\"Figure\",\"type\":\"Plot\"},{\"attributes\":{\"margin\":[5,5,5,5],\"name\":\"HSpacer103627\",\"sizing_mode\":\"stretch_width\"},\"id\":\"40734\",\"type\":\"Spacer\"},{\"attributes\":{\"callback\":null,\"renderers\":[{\"id\":\"40639\"}],\"tags\":[\"hv_created\"],\"tooltips\":[[\"forecast_flag\",\"@{forecast_flag}\"],[\"actuals\",\"@{actuals}\"],[\"Density\",\"@{actuals_density}\"]]},\"id\":\"40596\",\"type\":\"HoverTool\"},{\"attributes\":{\"coordinates\":null,\"group\":null,\"text\":\"unit cost(density)\",\"text_color\":\"black\",\"text_font_size\":\"12pt\"},\"id\":\"40598\",\"type\":\"Title\"},{\"attributes\":{\"bottom_units\":\"screen\",\"coordinates\":null,\"fill_alpha\":0.5,\"fill_color\":\"lightgrey\",\"group\":null,\"left_units\":\"screen\",\"level\":\"overlay\",\"line_alpha\":1.0,\"line_color\":\"black\",\"line_dash\":[4,4],\"line_width\":2,\"right_units\":\"screen\",\"syncable\":false,\"top_units\":\"screen\"},\"id\":\"40619\",\"type\":\"BoxAnnotation\"},{\"attributes\":{},\"id\":\"40602\",\"type\":\"LinearScale\"},{\"attributes\":{},\"id\":\"40629\",\"type\":\"AllLabels\"},{\"attributes\":{},\"id\":\"40604\",\"type\":\"LinearScale\"},{\"attributes\":{},\"id\":\"40607\",\"type\":\"BasicTicker\"},{\"attributes\":{\"axis\":{\"id\":\"40610\"},\"coordinates\":null,\"dimension\":1,\"grid_line_color\":null,\"group\":null,\"ticker\":null},\"id\":\"40613\",\"type\":\"Grid\"},{\"attributes\":{\"end\":2304170.6308619217,\"reset_end\":2304170.6308619217,\"reset_start\":1063775.239138078,\"start\":1063775.239138078,\"tags\":[[[\"actuals\",\"actuals\",null]]]},\"id\":\"40594\",\"type\":\"Range1d\"},{\"attributes\":{\"axis_label\":\"unit_cost\",\"coordinates\":null,\"formatter\":{\"id\":\"40628\"},\"group\":null,\"major_label_policy\":{\"id\":\"40629\"},\"ticker\":{\"id\":\"40607\"}},\"id\":\"40606\",\"type\":\"LinearAxis\"},{\"attributes\":{\"tools\":[{\"id\":\"40596\"},{\"id\":\"40614\"},{\"id\":\"40615\"},{\"id\":\"40616\"},{\"id\":\"40617\"},{\"id\":\"40618\"}]},\"id\":\"40620\",\"type\":\"Toolbar\"},{\"attributes\":{},\"id\":\"40615\",\"type\":\"PanTool\"},{\"attributes\":{},\"id\":\"40611\",\"type\":\"BasicTicker\"},{\"attributes\":{\"axis\":{\"id\":\"40606\"},\"coordinates\":null,\"grid_line_color\":null,\"group\":null,\"ticker\":null},\"id\":\"40609\",\"type\":\"Grid\"},{\"attributes\":{\"end\":2.8329229927002735e-06,\"reset_end\":2.8329229927002735e-06,\"reset_start\":0.0,\"tags\":[[[\"actuals_density\",\"Density\",null]]]},\"id\":\"40595\",\"type\":\"Range1d\"},{\"attributes\":{\"axis_label\":\"density\",\"coordinates\":null,\"formatter\":{\"id\":\"40631\"},\"group\":null,\"major_label_policy\":{\"id\":\"40632\"},\"ticker\":{\"id\":\"40611\"}},\"id\":\"40610\",\"type\":\"LinearAxis\"},{\"attributes\":{\"margin\":[5,5,5,5],\"name\":\"HSpacer103626\",\"sizing_mode\":\"stretch_width\"},\"id\":\"40593\",\"type\":\"Spacer\"},{\"attributes\":{},\"id\":\"40628\",\"type\":\"BasicTickFormatter\"},{\"attributes\":{\"children\":[{\"id\":\"40593\"},{\"id\":\"40597\"},{\"id\":\"40734\"}],\"margin\":[0,0,0,0],\"name\":\"Row103622\",\"tags\":[\"embedded\"]},\"id\":\"40592\",\"type\":\"Row\"},{\"attributes\":{},\"id\":\"40616\",\"type\":\"WheelZoomTool\"},{\"attributes\":{},\"id\":\"40614\",\"type\":\"SaveTool\"},{\"attributes\":{},\"id\":\"40631\",\"type\":\"BasicTickFormatter\"},{\"attributes\":{\"coordinates\":null,\"group\":null,\"items\":[]},\"id\":\"40651\",\"type\":\"Legend\"},{\"attributes\":{\"overlay\":{\"id\":\"40619\"}},\"id\":\"40617\",\"type\":\"BoxZoomTool\"},{\"attributes\":{\"fill_alpha\":0.5,\"fill_color\":\"#30a2da\",\"hatch_alpha\":0.1,\"hatch_color\":\"#30a2da\",\"line_alpha\":0.7,\"x\":{\"field\":\"x\"},\"y\":{\"field\":\"y\"}},\"id\":\"40637\",\"type\":\"Patch\"},{\"attributes\":{},\"id\":\"40618\",\"type\":\"ResetTool\"},{\"attributes\":{},\"id\":\"40632\",\"type\":\"AllLabels\"},{\"attributes\":{\"fill_alpha\":0.5,\"fill_color\":\"#30a2da\",\"hatch_alpha\":0.7,\"hatch_color\":\"#30a2da\",\"line_alpha\":0.7,\"x\":{\"field\":\"x\"},\"y\":{\"field\":\"y\"}},\"id\":\"40636\",\"type\":\"Patch\"},{\"attributes\":{\"coordinates\":null,\"data_source\":{\"id\":\"40633\"},\"glyph\":{\"id\":\"40636\"},\"group\":null,\"hover_glyph\":null,\"muted_glyph\":{\"id\":\"40638\"},\"nonselection_glyph\":{\"id\":\"40637\"},\"selection_glyph\":{\"id\":\"40653\"},\"view\":{\"id\":\"40640\"}},\"id\":\"40639\",\"type\":\"GlyphRenderer\"},{\"attributes\":{\"data\":{\"x\":{\"__ndarray__\":\"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\",\"dtype\":\"float64\",\"order\":\"little\",\"shape\":[200]},\"y\":{\"__ndarray__\":\"AAAAAAAAAAAAAAAAAAAAAAAAAAAAAAAAAAAAAAAAAAAAAAAAAAAAAAAAAAAAAAAAAAAAAAAAAAAAAAAAAAAAAAAAAAAAAAAAAAAAAAAAAAAAAAAAAAAAAAAAAAAAAAAAAAAAAAAAAAAAAAAAAAAAAAAAAAAAAAAAAAAAAAAAAAAAAAAAAAAAAAAAAAAAAAAAAAAAAAAAAAAAAAAAAAAAAAAAAAAAAAAAAAAAAAAAAAAAAAAAAAAAAAAAAAAAAAAAAAAAAAAAAAAAAAAAAAAAAAAAAAAAAAAAAAAAAAAAAAAAAAAAAAAAAAAAAAAAAAAAAAAAAAAAAAAAAAAAAAAAAAAAAAAAAAAAAAAAAAAAAAAAAAAAAAAAAAAAAAAAAAAAAAAAAAAAAAAAAAAAAAAAAAAAAAAAAAAAAAAAAAAAAAAAAAAAAAAAAAAAAAAAAAAAAAAAAAAAAAAAAAAAAAAAAAAAAAAAAAAAAAAAAAAAAAAAAAAAAAAAAAAAAAAAAAAAAAAAAAAAAAAAAAAAAAAAAAAAAAAAAAAAAAAAAAAAAAAAAAAAAAAAAAAAAAAAAAAAAAAAAAAAAAAAAAAAAAAAAAAAAAAAAAAAAAAAAAAAAAAAAAAAAAAAAAAAAAAAAAAAAAAAAAAAAAAAAAAAAAAAAAAAAAAAAAAAAAAAAAAAAAAAAAAAAAAAAAAAAAAAAAAAAAAAAAAAAAAAAAAAAAAAAAAAAAAAAAAAAAAAAAAAAAAAAAAAAAAAAAAAAAAAAAAAAAAAAAAAAAAAAAAAAAAAAAAAAAAAAAAAAAAAAAAAAAAAAAAAAAAAAAAAAAAAAAAAAAAAAAAAAAAAAAAAAAAAAAAAAAAAAAAAAAAAAAAAAAAAAAAAAAAAAAAAAAAAAAAAAAAAAAAAAAAAAAAAAAAAAAAAAAAAAAAAAAAAAAAAAAAAAAAAAAAAAAAAAAAAAAAAAAAAAAAAAAAAAAAAAAAAAAAAAAAAAAAAAAAAAAAAAAAAAAAAAAAAAAAAAAAAAAAAAAAAAAAAAAAAAAAAAAAAAAAAAAAAAAAAAAAAAAAAAACmw6LjY3IWPru3ZCxpRiE+p9GkmzQKKj6cle2ILTkzPm3aPI54zjs++Q30N2a1Qz638pPVjGNLPodScFJrqlI+OGnHF8n3WD5sY/2NdWZgPvRDuILcLWU+TCdHj6Xqaj5Q9CahE9twPiK+J3p/1nQ+jXUqnXN5eT6fofYD1tt+PtoKTtEoj4I+w5VD4mw2hj7DoNzdKoCKPrQjD7Jkj48+JqVCwFjGkj5ITlQkBFKWPvZPpcGmgJo+FY/fSO5lnz5EOL9MYIiiPkTGqnJhxKU+HYgEMSVmqT786jwRiWetPui/pf1+3rA+qfgOB/8qsz5J38O2B4+1PohmqSsZ/7c+RqWO7UFvuj5arK9W6dO8PsipOwZyIr8+AW00Hs2owD4iNphLxqzBPs8VLtXRmcI+Qx6jmflswz4TP+5iWyPEPjZtD23mucQ+el4KLDItxT5DB6H/fHnFPvxcUOzZmsU+rX59GouNxT4YbnigfU7FPqaHftHT28Q+vxohZGc1xD6Nppv7LF3DPrNUPeJmV8I+aK5yLpwqwT76CvFapb6/PhtNBygm/7w+zPNIDI0suj7Bya6mAl23PmvUJWGgpbQ+S3F8pzYZsj7b14nbuI6vPjrzgduxd6s+ppwmnNX8pz5cd6zKxiWlPiYM76AG86I+KWkshQBfoT4Sg+xTNl+gPszd9njEyp8+ERYqFeDAnz58DFwMQD2gPlebpT8256A+QxF2A6bIoT7PMfbHMsuiPjptu8I/2KM+4bvCcoPZpD7hh635yLmlPvrAj1HbZaY+3yvXLIjNpj6pdzjrnOSmPikg8wy6o6Y+1Wb8ZdoIpj4y5OcZcxelPlasuMge2KM+P6dqz9ZXoj67ZYn5zaagPjtastUarp0+SuV+/vj1mT4/fcpT+0eWPjwIkTaKwpI+cW7KFw78jj5T5MDRxxeJPty2jFj37IM+YgtxO0QGfz7Qc9F5Kq13PpvCwOjmtXE+Nn/E29n3aT7N4t5GPqhiPmlYFS9VRVo+HE0ocYMfUj47cj4S1H9IPhLDfzFMOUA+Qq45pfYMNT73FhQs0MEqPg==\",\"dtype\":\"float64\",\"order\":\"little\",\"shape\":[200]}},\"selected\":{\"id\":\"40634\"},\"selection_policy\":{\"id\":\"40648\"}},\"id\":\"40633\",\"type\":\"ColumnDataSource\"},{\"attributes\":{\"source\":{\"id\":\"40633\"}},\"id\":\"40640\",\"type\":\"CDSView\"},{\"attributes\":{\"fill_alpha\":0.2,\"fill_color\":\"#30a2da\",\"hatch_alpha\":0.2,\"hatch_color\":\"#30a2da\",\"line_alpha\":0.2,\"x\":{\"field\":\"x\"},\"y\":{\"field\":\"y\"}},\"id\":\"40638\",\"type\":\"Patch\"},{\"attributes\":{\"fill_alpha\":0.5,\"fill_color\":\"#30a2da\",\"hatch_alpha\":0.7,\"hatch_color\":\"#30a2da\",\"line_alpha\":0.7,\"x\":{\"field\":\"x\"},\"y\":{\"field\":\"y\"}},\"id\":\"40653\",\"type\":\"Patch\"}],\"root_ids\":[\"40592\"]},\"title\":\"Bokeh Application\",\"version\":\"2.4.3\"}};\n",
       "    var render_items = [{\"docid\":\"2df84135-caee-4108-a383-f5ccdd570ef7\",\"root_ids\":[\"40592\"],\"roots\":{\"40592\":\"47db11ff-ab15-464b-bfb7-3531839ab9b4\"}}];\n",
       "    root.Bokeh.embed.embed_items_notebook(docs_json, render_items);\n",
       "  }\n",
       "  if (root.Bokeh !== undefined && root.Bokeh.Panel !== undefined) {\n",
       "    embed_document(root);\n",
       "  } else {\n",
       "    var attempts = 0;\n",
       "    var timer = setInterval(function(root) {\n",
       "      if (root.Bokeh !== undefined && root.Bokeh.Panel !== undefined) {\n",
       "        clearInterval(timer);\n",
       "        embed_document(root);\n",
       "      } else if (document.readyState == \"complete\") {\n",
       "        attempts++;\n",
       "        if (attempts > 200) {\n",
       "          clearInterval(timer);\n",
       "          console.log(\"Bokeh: ERROR: Unable to run BokehJS code because BokehJS library is missing\");\n",
       "        }\n",
       "      }\n",
       "    }, 25, root)\n",
       "  }\n",
       "})(window);</script>"
      ],
      "text/plain": [
       ":NdOverlay   [forecast_flag]\n",
       "   :Distribution   [actuals]   (Density)"
      ]
     },
     "execution_count": 77,
     "metadata": {
      "application/vnd.holoviews_exec.v0+json": {
       "id": "40592"
      }
     },
     "output_type": "execute_result"
    }
   ],
   "source": [
    "residual_analysis.hvplot.kde(y=\"actuals\",by=\"forecast_flag\", ## Grouping by Predictions\n",
    "                                width=800, height=400,\n",
    "                                alpha=0.7,\n",
    "                                ylabel=\"density\",\n",
    "                                xlabel=\"unit_cost\",\n",
    "                                title=f'unit cost(density)',legend='top_right')"
   ]
  },
  {
   "cell_type": "markdown",
   "metadata": {},
   "source": [
    "- From the above plot we can infer that the higher \"over predictions\" are happening for unit_cost > 200.\n",
    "- similarly, the higher \"under predictions\" are happening for unit_cost is zero.\n",
    "\n",
    "This can help us tune the model by a separate model for unit_cost > 200\n"
   ]
  },
  {
   "cell_type": "markdown",
   "metadata": {},
   "source": [
    "# 4.2 Modelling - XGBoost"
   ]
  },
  {
   "cell_type": "markdown",
   "metadata": {},
   "source": [
    "## 4.2.1 Model training pipeline\n",
    "\n",
    "Here we focus on creating a collection of pipelines that can be used for tranining respective models.\n",
    "\n",
    "Each model pipeline will essentially be of the form\n",
    "```\n",
    "[\n",
    "('preprocessing', preprocessing_pipeline),\n",
    "('feature_selection', feature_selection_pipeline),\n",
    "('estimator', estimator),\n",
    "]\n",
    "```"
   ]
  },
  {
   "cell_type": "markdown",
   "metadata": {},
   "source": [
    "### 4.2.2 Model Pipeline Build"
   ]
  },
  {
   "cell_type": "code",
   "execution_count": 92,
   "metadata": {},
   "outputs": [
    {
     "data": {
      "text/html": [
       "<style>#sk-container-id-6 {color: black;background-color: white;}#sk-container-id-6 pre{padding: 0;}#sk-container-id-6 div.sk-toggleable {background-color: white;}#sk-container-id-6 label.sk-toggleable__label {cursor: pointer;display: block;width: 100%;margin-bottom: 0;padding: 0.3em;box-sizing: border-box;text-align: center;}#sk-container-id-6 label.sk-toggleable__label-arrow:before {content: \"▸\";float: left;margin-right: 0.25em;color: #696969;}#sk-container-id-6 label.sk-toggleable__label-arrow:hover:before {color: black;}#sk-container-id-6 div.sk-estimator:hover label.sk-toggleable__label-arrow:before {color: black;}#sk-container-id-6 div.sk-toggleable__content {max-height: 0;max-width: 0;overflow: hidden;text-align: left;background-color: #f0f8ff;}#sk-container-id-6 div.sk-toggleable__content pre {margin: 0.2em;color: black;border-radius: 0.25em;background-color: #f0f8ff;}#sk-container-id-6 input.sk-toggleable__control:checked~div.sk-toggleable__content {max-height: 200px;max-width: 100%;overflow: auto;}#sk-container-id-6 input.sk-toggleable__control:checked~label.sk-toggleable__label-arrow:before {content: \"▾\";}#sk-container-id-6 div.sk-estimator input.sk-toggleable__control:checked~label.sk-toggleable__label {background-color: #d4ebff;}#sk-container-id-6 div.sk-label input.sk-toggleable__control:checked~label.sk-toggleable__label {background-color: #d4ebff;}#sk-container-id-6 input.sk-hidden--visually {border: 0;clip: rect(1px 1px 1px 1px);clip: rect(1px, 1px, 1px, 1px);height: 1px;margin: -1px;overflow: hidden;padding: 0;position: absolute;width: 1px;}#sk-container-id-6 div.sk-estimator {font-family: monospace;background-color: #f0f8ff;border: 1px dotted black;border-radius: 0.25em;box-sizing: border-box;margin-bottom: 0.5em;}#sk-container-id-6 div.sk-estimator:hover {background-color: #d4ebff;}#sk-container-id-6 div.sk-parallel-item::after {content: \"\";width: 100%;border-bottom: 1px solid gray;flex-grow: 1;}#sk-container-id-6 div.sk-label:hover label.sk-toggleable__label {background-color: #d4ebff;}#sk-container-id-6 div.sk-serial::before {content: \"\";position: absolute;border-left: 1px solid gray;box-sizing: border-box;top: 0;bottom: 0;left: 50%;z-index: 0;}#sk-container-id-6 div.sk-serial {display: flex;flex-direction: column;align-items: center;background-color: white;padding-right: 0.2em;padding-left: 0.2em;position: relative;}#sk-container-id-6 div.sk-item {position: relative;z-index: 1;}#sk-container-id-6 div.sk-parallel {display: flex;align-items: stretch;justify-content: center;background-color: white;position: relative;}#sk-container-id-6 div.sk-item::before, #sk-container-id-6 div.sk-parallel-item::before {content: \"\";position: absolute;border-left: 1px solid gray;box-sizing: border-box;top: 0;bottom: 0;left: 50%;z-index: -1;}#sk-container-id-6 div.sk-parallel-item {display: flex;flex-direction: column;z-index: 1;position: relative;background-color: white;}#sk-container-id-6 div.sk-parallel-item:first-child::after {align-self: flex-end;width: 50%;}#sk-container-id-6 div.sk-parallel-item:last-child::after {align-self: flex-start;width: 50%;}#sk-container-id-6 div.sk-parallel-item:only-child::after {width: 0;}#sk-container-id-6 div.sk-dashed-wrapped {border: 1px dashed gray;margin: 0 0.4em 0.5em 0.4em;box-sizing: border-box;padding-bottom: 0.4em;background-color: white;}#sk-container-id-6 div.sk-label label {font-family: monospace;font-weight: bold;display: inline-block;line-height: 1.2em;}#sk-container-id-6 div.sk-label-container {text-align: center;}#sk-container-id-6 div.sk-container {/* jupyter's `normalize.less` sets `[hidden] { display: none; }` but bootstrap.min.css set `[hidden] { display: none !important; }` so we also need the `!important` here to be able to override the default hidden behavior on the sphinx rendered scikit-learn.org. See: https://github.com/scikit-learn/scikit-learn/issues/21755 */display: inline-block !important;position: relative;}#sk-container-id-6 div.sk-text-repr-fallback {display: none;}</style><div id=\"sk-container-id-6\" class=\"sk-top-container\"><div class=\"sk-text-repr-fallback\"><pre>Pipeline(steps=[(&#x27;XGBoost&#x27;,\n",
       "                 XGBRegressor(base_score=0.5, booster=&#x27;gbtree&#x27;,\n",
       "                              colsample_bylevel=1, colsample_bynode=1,\n",
       "                              colsample_bytree=1, enable_categorical=False,\n",
       "                              gamma=0, gpu_id=-1, importance_type=None,\n",
       "                              interaction_constraints=&#x27;&#x27;,\n",
       "                              learning_rate=0.300000012, max_delta_step=0,\n",
       "                              max_depth=6, min_child_weight=1, missing=nan,\n",
       "                              monotone_constraints=&#x27;()&#x27;, n_estimators=100,\n",
       "                              n_jobs=8, num_parallel_tree=1, predictor=&#x27;auto&#x27;,\n",
       "                              random_state=0, reg_alpha=0, reg_lambda=1,\n",
       "                              scale_pos_weight=1, subsample=1,\n",
       "                              tree_method=&#x27;exact&#x27;, validate_parameters=1,\n",
       "                              verbosity=None))])</pre><b>In a Jupyter environment, please rerun this cell to show the HTML representation or trust the notebook. <br />On GitHub, the HTML representation is unable to render, please try loading this page with nbviewer.org.</b></div><div class=\"sk-container\" hidden><div class=\"sk-item sk-dashed-wrapped\"><div class=\"sk-label-container\"><div class=\"sk-label sk-toggleable\"><input class=\"sk-toggleable__control sk-hidden--visually\" id=\"sk-estimator-id-11\" type=\"checkbox\" ><label for=\"sk-estimator-id-11\" class=\"sk-toggleable__label sk-toggleable__label-arrow\">Pipeline</label><div class=\"sk-toggleable__content\"><pre>Pipeline(steps=[(&#x27;XGBoost&#x27;,\n",
       "                 XGBRegressor(base_score=0.5, booster=&#x27;gbtree&#x27;,\n",
       "                              colsample_bylevel=1, colsample_bynode=1,\n",
       "                              colsample_bytree=1, enable_categorical=False,\n",
       "                              gamma=0, gpu_id=-1, importance_type=None,\n",
       "                              interaction_constraints=&#x27;&#x27;,\n",
       "                              learning_rate=0.300000012, max_delta_step=0,\n",
       "                              max_depth=6, min_child_weight=1, missing=nan,\n",
       "                              monotone_constraints=&#x27;()&#x27;, n_estimators=100,\n",
       "                              n_jobs=8, num_parallel_tree=1, predictor=&#x27;auto&#x27;,\n",
       "                              random_state=0, reg_alpha=0, reg_lambda=1,\n",
       "                              scale_pos_weight=1, subsample=1,\n",
       "                              tree_method=&#x27;exact&#x27;, validate_parameters=1,\n",
       "                              verbosity=None))])</pre></div></div></div><div class=\"sk-serial\"><div class=\"sk-item\"><div class=\"sk-estimator sk-toggleable\"><input class=\"sk-toggleable__control sk-hidden--visually\" id=\"sk-estimator-id-12\" type=\"checkbox\" ><label for=\"sk-estimator-id-12\" class=\"sk-toggleable__label sk-toggleable__label-arrow\">XGBRegressor</label><div class=\"sk-toggleable__content\"><pre>XGBRegressor(base_score=0.5, booster=&#x27;gbtree&#x27;, colsample_bylevel=1,\n",
       "             colsample_bynode=1, colsample_bytree=1, enable_categorical=False,\n",
       "             gamma=0, gpu_id=-1, importance_type=None,\n",
       "             interaction_constraints=&#x27;&#x27;, learning_rate=0.300000012,\n",
       "             max_delta_step=0, max_depth=6, min_child_weight=1, missing=nan,\n",
       "             monotone_constraints=&#x27;()&#x27;, n_estimators=100, n_jobs=8,\n",
       "             num_parallel_tree=1, predictor=&#x27;auto&#x27;, random_state=0, reg_alpha=0,\n",
       "             reg_lambda=1, scale_pos_weight=1, subsample=1, tree_method=&#x27;exact&#x27;,\n",
       "             validate_parameters=1, verbosity=None)</pre></div></div></div></div></div></div></div>"
      ],
      "text/plain": [
       "Pipeline(steps=[('XGBoost',\n",
       "                 XGBRegressor(base_score=0.5, booster='gbtree',\n",
       "                              colsample_bylevel=1, colsample_bynode=1,\n",
       "                              colsample_bytree=1, enable_categorical=False,\n",
       "                              gamma=0, gpu_id=-1, importance_type=None,\n",
       "                              interaction_constraints='',\n",
       "                              learning_rate=0.300000012, max_delta_step=0,\n",
       "                              max_depth=6, min_child_weight=1, missing=nan,\n",
       "                              monotone_constraints='()', n_estimators=100,\n",
       "                              n_jobs=8, num_parallel_tree=1, predictor='auto',\n",
       "                              random_state=0, reg_alpha=0, reg_lambda=1,\n",
       "                              scale_pos_weight=1, subsample=1,\n",
       "                              tree_method='exact', validate_parameters=1,\n",
       "                              verbosity=None))])"
      ]
     },
     "execution_count": 92,
     "metadata": {},
     "output_type": "execute_result"
    }
   ],
   "source": [
    "# let's find features for some decent defaults\n",
    "estimator = XGBRegressor()\n",
    "xgb_training_pipe_init = Pipeline([\n",
    "    ('XGBoost', XGBRegressor())\n",
    "])\n",
    "xgb_training_pipe_init.fit(X_train, y_train)"
   ]
  },
  {
   "cell_type": "markdown",
   "metadata": {},
   "source": [
    "### 4.2.3 Model Tuning"
   ]
  },
  {
   "cell_type": "code",
   "execution_count": 93,
   "metadata": {},
   "outputs": [
    {
     "data": {
      "text/plain": [
       "<AxesSubplot:>"
      ]
     },
     "execution_count": 93,
     "metadata": {},
     "output_type": "execute_result"
    },
    {
     "data": {
      "image/png": "[encoded data removed]",
      "text/plain": [
       "<Figure size 640x480 with 1 Axes>"
      ]
     },
     "metadata": {},
     "output_type": "display_data"
    }
   ],
   "source": [
    "# Understanding the Feature Importance\n",
    "%matplotlib inline\n",
    "imp = pd.DataFrame({'importance': xgb_training_pipe_init['XGBoost'].feature_importances_})\n",
    "imp.index = train_X.columns\n",
    "imp.sort_values('importance',inplace=True)\n",
    "imp.plot(kind='barh')"
   ]
  },
  {
   "cell_type": "markdown",
   "metadata": {},
   "source": [
    "'condition','model_family','days_since_last_purchase','first_time_customer','sales_person', are considered to be important and in grid search"
   ]
  },
  {
   "cell_type": "markdown",
   "metadata": {},
   "source": [
    "#### Grid Search of the Estimator"
   ]
  },
  {
   "cell_type": "code",
   "execution_count": 94,
   "metadata": {},
   "outputs": [
    {
     "name": "stdout",
     "output_type": "stream",
     "text": [
      "Fitting 2 folds for each of 1 candidates, totalling 2 fits\n"
     ]
    },
    {
     "name": "stderr",
     "output_type": "stream",
     "text": [
      "/home/raunak314/miniconda3/envs/ta-lib-dev/lib/python3.9/site-packages/xgboost/compat.py:36: FutureWarning: pandas.Int64Index is deprecated and will be removed from pandas in a future version. Use pandas.Index with the appropriate dtype instead.\n",
      "  from pandas import MultiIndex, Int64Index\n",
      "/home/raunak314/miniconda3/envs/ta-lib-dev/lib/python3.9/site-packages/xgboost/compat.py:36: FutureWarning: pandas.Int64Index is deprecated and will be removed from pandas in a future version. Use pandas.Index with the appropriate dtype instead.\n",
      "  from pandas import MultiIndex, Int64Index\n",
      "/home/raunak314/miniconda3/envs/ta-lib-dev/lib/python3.9/site-packages/xgboost/data.py:262: FutureWarning: pandas.Int64Index is deprecated and will be removed from pandas in a future version. Use pandas.Index with the appropriate dtype instead.\n",
      "  elif isinstance(data.columns, (pd.Int64Index, pd.RangeIndex)):\n",
      "/home/raunak314/miniconda3/envs/ta-lib-dev/lib/python3.9/site-packages/xgboost/data.py:262: FutureWarning: pandas.Int64Index is deprecated and will be removed from pandas in a future version. Use pandas.Index with the appropriate dtype instead.\n",
      "  elif isinstance(data.columns, (pd.Int64Index, pd.RangeIndex)):\n"
     ]
    },
    {
     "name": "stdout",
     "output_type": "stream",
     "text": [
      "0.739444723246002\n",
      "{'gamma': 0.03, 'learning_rate': 0.1, 'max_depth': 3, 'min_child_weight': 6, 'n_estimators': 500}\n",
      "CPU times: user 6.16 s, sys: 85.9 ms, total: 6.25 s\n",
      "Wall time: 4min 6s\n"
     ]
    }
   ],
   "source": [
    "%%time\n",
    "parameters = {\n",
    "   'gamma':[0.03],\n",
    "   'min_child_weight':[6],\n",
    "   'learning_rate':[0.1],\n",
    "   'max_depth':[3],\n",
    "   'n_estimators':[500], \n",
    "}\n",
    "est = XGBRegressor()\n",
    "xgb_grid = GridSearchCV(est,\n",
    "                        parameters,\n",
    "                        cv = 2,\n",
    "                        n_jobs = 4,\n",
    "                        verbose=True)\n",
    "\n",
    "xgb_grid.fit(X_train, y_train)\n",
    "\n",
    "print(xgb_grid.best_score_)\n",
    "print(xgb_grid.best_params_)"
   ]
  },
  {
   "cell_type": "markdown",
   "metadata": {},
   "source": [
    "#### Pipeline Build using the best estimator"
   ]
  },
  {
   "cell_type": "code",
   "execution_count": 95,
   "metadata": {},
   "outputs": [
    {
     "data": {
      "text/html": [
       "<style>#sk-container-id-7 {color: black;background-color: white;}#sk-container-id-7 pre{padding: 0;}#sk-container-id-7 div.sk-toggleable {background-color: white;}#sk-container-id-7 label.sk-toggleable__label {cursor: pointer;display: block;width: 100%;margin-bottom: 0;padding: 0.3em;box-sizing: border-box;text-align: center;}#sk-container-id-7 label.sk-toggleable__label-arrow:before {content: \"▸\";float: left;margin-right: 0.25em;color: #696969;}#sk-container-id-7 label.sk-toggleable__label-arrow:hover:before {color: black;}#sk-container-id-7 div.sk-estimator:hover label.sk-toggleable__label-arrow:before {color: black;}#sk-container-id-7 div.sk-toggleable__content {max-height: 0;max-width: 0;overflow: hidden;text-align: left;background-color: #f0f8ff;}#sk-container-id-7 div.sk-toggleable__content pre {margin: 0.2em;color: black;border-radius: 0.25em;background-color: #f0f8ff;}#sk-container-id-7 input.sk-toggleable__control:checked~div.sk-toggleable__content {max-height: 200px;max-width: 100%;overflow: auto;}#sk-container-id-7 input.sk-toggleable__control:checked~label.sk-toggleable__label-arrow:before {content: \"▾\";}#sk-container-id-7 div.sk-estimator input.sk-toggleable__control:checked~label.sk-toggleable__label {background-color: #d4ebff;}#sk-container-id-7 div.sk-label input.sk-toggleable__control:checked~label.sk-toggleable__label {background-color: #d4ebff;}#sk-container-id-7 input.sk-hidden--visually {border: 0;clip: rect(1px 1px 1px 1px);clip: rect(1px, 1px, 1px, 1px);height: 1px;margin: -1px;overflow: hidden;padding: 0;position: absolute;width: 1px;}#sk-container-id-7 div.sk-estimator {font-family: monospace;background-color: #f0f8ff;border: 1px dotted black;border-radius: 0.25em;box-sizing: border-box;margin-bottom: 0.5em;}#sk-container-id-7 div.sk-estimator:hover {background-color: #d4ebff;}#sk-container-id-7 div.sk-parallel-item::after {content: \"\";width: 100%;border-bottom: 1px solid gray;flex-grow: 1;}#sk-container-id-7 div.sk-label:hover label.sk-toggleable__label {background-color: #d4ebff;}#sk-container-id-7 div.sk-serial::before {content: \"\";position: absolute;border-left: 1px solid gray;box-sizing: border-box;top: 0;bottom: 0;left: 50%;z-index: 0;}#sk-container-id-7 div.sk-serial {display: flex;flex-direction: column;align-items: center;background-color: white;padding-right: 0.2em;padding-left: 0.2em;position: relative;}#sk-container-id-7 div.sk-item {position: relative;z-index: 1;}#sk-container-id-7 div.sk-parallel {display: flex;align-items: stretch;justify-content: center;background-color: white;position: relative;}#sk-container-id-7 div.sk-item::before, #sk-container-id-7 div.sk-parallel-item::before {content: \"\";position: absolute;border-left: 1px solid gray;box-sizing: border-box;top: 0;bottom: 0;left: 50%;z-index: -1;}#sk-container-id-7 div.sk-parallel-item {display: flex;flex-direction: column;z-index: 1;position: relative;background-color: white;}#sk-container-id-7 div.sk-parallel-item:first-child::after {align-self: flex-end;width: 50%;}#sk-container-id-7 div.sk-parallel-item:last-child::after {align-self: flex-start;width: 50%;}#sk-container-id-7 div.sk-parallel-item:only-child::after {width: 0;}#sk-container-id-7 div.sk-dashed-wrapped {border: 1px dashed gray;margin: 0 0.4em 0.5em 0.4em;box-sizing: border-box;padding-bottom: 0.4em;background-color: white;}#sk-container-id-7 div.sk-label label {font-family: monospace;font-weight: bold;display: inline-block;line-height: 1.2em;}#sk-container-id-7 div.sk-label-container {text-align: center;}#sk-container-id-7 div.sk-container {/* jupyter's `normalize.less` sets `[hidden] { display: none; }` but bootstrap.min.css set `[hidden] { display: none !important; }` so we also need the `!important` here to be able to override the default hidden behavior on the sphinx rendered scikit-learn.org. See: https://github.com/scikit-learn/scikit-learn/issues/21755 */display: inline-block !important;position: relative;}#sk-container-id-7 div.sk-text-repr-fallback {display: none;}</style><div id=\"sk-container-id-7\" class=\"sk-top-container\"><div class=\"sk-text-repr-fallback\"><pre>Pipeline(steps=[(&#x27;XGBoost&#x27;,\n",
       "                 XGBRegressor(base_score=0.5, booster=&#x27;gbtree&#x27;,\n",
       "                              colsample_bylevel=1, colsample_bynode=1,\n",
       "                              colsample_bytree=1, enable_categorical=False,\n",
       "                              gamma=0.03, gpu_id=-1, importance_type=None,\n",
       "                              interaction_constraints=&#x27;&#x27;, learning_rate=0.1,\n",
       "                              max_delta_step=0, max_depth=3, min_child_weight=6,\n",
       "                              missing=nan, monotone_constraints=&#x27;()&#x27;,\n",
       "                              n_estimators=500, n_jobs=8, num_parallel_tree=1,\n",
       "                              predictor=&#x27;auto&#x27;, random_state=0, reg_alpha=0,\n",
       "                              reg_lambda=1, scale_pos_weight=1, subsample=1,\n",
       "                              tree_method=&#x27;exact&#x27;, validate_parameters=1,\n",
       "                              verbosity=None))])</pre><b>In a Jupyter environment, please rerun this cell to show the HTML representation or trust the notebook. <br />On GitHub, the HTML representation is unable to render, please try loading this page with nbviewer.org.</b></div><div class=\"sk-container\" hidden><div class=\"sk-item sk-dashed-wrapped\"><div class=\"sk-label-container\"><div class=\"sk-label sk-toggleable\"><input class=\"sk-toggleable__control sk-hidden--visually\" id=\"sk-estimator-id-13\" type=\"checkbox\" ><label for=\"sk-estimator-id-13\" class=\"sk-toggleable__label sk-toggleable__label-arrow\">Pipeline</label><div class=\"sk-toggleable__content\"><pre>Pipeline(steps=[(&#x27;XGBoost&#x27;,\n",
       "                 XGBRegressor(base_score=0.5, booster=&#x27;gbtree&#x27;,\n",
       "                              colsample_bylevel=1, colsample_bynode=1,\n",
       "                              colsample_bytree=1, enable_categorical=False,\n",
       "                              gamma=0.03, gpu_id=-1, importance_type=None,\n",
       "                              interaction_constraints=&#x27;&#x27;, learning_rate=0.1,\n",
       "                              max_delta_step=0, max_depth=3, min_child_weight=6,\n",
       "                              missing=nan, monotone_constraints=&#x27;()&#x27;,\n",
       "                              n_estimators=500, n_jobs=8, num_parallel_tree=1,\n",
       "                              predictor=&#x27;auto&#x27;, random_state=0, reg_alpha=0,\n",
       "                              reg_lambda=1, scale_pos_weight=1, subsample=1,\n",
       "                              tree_method=&#x27;exact&#x27;, validate_parameters=1,\n",
       "                              verbosity=None))])</pre></div></div></div><div class=\"sk-serial\"><div class=\"sk-item\"><div class=\"sk-estimator sk-toggleable\"><input class=\"sk-toggleable__control sk-hidden--visually\" id=\"sk-estimator-id-14\" type=\"checkbox\" ><label for=\"sk-estimator-id-14\" class=\"sk-toggleable__label sk-toggleable__label-arrow\">XGBRegressor</label><div class=\"sk-toggleable__content\"><pre>XGBRegressor(base_score=0.5, booster=&#x27;gbtree&#x27;, colsample_bylevel=1,\n",
       "             colsample_bynode=1, colsample_bytree=1, enable_categorical=False,\n",
       "             gamma=0.03, gpu_id=-1, importance_type=None,\n",
       "             interaction_constraints=&#x27;&#x27;, learning_rate=0.1, max_delta_step=0,\n",
       "             max_depth=3, min_child_weight=6, missing=nan,\n",
       "             monotone_constraints=&#x27;()&#x27;, n_estimators=500, n_jobs=8,\n",
       "             num_parallel_tree=1, predictor=&#x27;auto&#x27;, random_state=0, reg_alpha=0,\n",
       "             reg_lambda=1, scale_pos_weight=1, subsample=1, tree_method=&#x27;exact&#x27;,\n",
       "             validate_parameters=1, verbosity=None)</pre></div></div></div></div></div></div></div>"
      ],
      "text/plain": [
       "Pipeline(steps=[('XGBoost',\n",
       "                 XGBRegressor(base_score=0.5, booster='gbtree',\n",
       "                              colsample_bylevel=1, colsample_bynode=1,\n",
       "                              colsample_bytree=1, enable_categorical=False,\n",
       "                              gamma=0.03, gpu_id=-1, importance_type=None,\n",
       "                              interaction_constraints='', learning_rate=0.1,\n",
       "                              max_delta_step=0, max_depth=3, min_child_weight=6,\n",
       "                              missing=nan, monotone_constraints='()',\n",
       "                              n_estimators=500, n_jobs=8, num_parallel_tree=1,\n",
       "                              predictor='auto', random_state=0, reg_alpha=0,\n",
       "                              reg_lambda=1, scale_pos_weight=1, subsample=1,\n",
       "                              tree_method='exact', validate_parameters=1,\n",
       "                              verbosity=None))])"
      ]
     },
     "execution_count": 95,
     "metadata": {},
     "output_type": "execute_result"
    }
   ],
   "source": [
    "xgb_pipeline_final = Pipeline([\n",
    "    ('XGBoost', xgb_grid.best_estimator_)\n",
    "])\n",
    "xgb_pipeline_final.fit(X_train, y_train)"
   ]
  },
  {
   "cell_type": "code",
   "execution_count": 96,
   "metadata": {},
   "outputs": [],
   "source": [
    "reg_tree_report = RegressionReport(model=xgb_pipeline_final, x_train=X_train, y_train=y_train, x_test= X_test, y_test= y_test,)\n",
    "reg_tree_report.get_report(include_shap=False, file_path='regression_tree_model_report')"
   ]
  },
  {
   "cell_type": "markdown",
   "metadata": {},
   "source": [
    "The Regression report containing the feature importances are available [here](https://drive.google.com/file/d/1JBfL3uxPcxBfl0amweXBFmLr7CSHFBUO/view?usp=sharing)"
   ]
  },
  {
   "cell_type": "markdown",
   "metadata": {},
   "source": [
    "# 5 Model Comparison"
   ]
  },
  {
   "cell_type": "markdown",
   "metadata": {},
   "source": [
    "Now, a comparison report of the  linear (vs) tree -based model  approach can be generated as follows.\n",
    "\n",
    "This code will not be part of the production code."
   ]
  },
  {
   "cell_type": "code",
   "execution_count": 120,
   "metadata": {},
   "outputs": [],
   "source": [
    "model_pipelines = [reg_ppln_final, xgb_pipeline_final]\n",
    "model_comparison_report = RegressionComparison(models=model_pipelines,x=X_train, y=y_train,refit=True)\n",
    "metrics = model_comparison_report.get_report(file_path='regression_comparison')"
   ]
  },
  {
   "cell_type": "code",
   "execution_count": 121,
   "metadata": {},
   "outputs": [
    {
     "data": {
      "text/html": [
       "<div>\n",
       "<style scoped>\n",
       "    .dataframe tbody tr th:only-of-type {\n",
       "        vertical-align: middle;\n",
       "    }\n",
       "\n",
       "    .dataframe tbody tr th {\n",
       "        vertical-align: top;\n",
       "    }\n",
       "\n",
       "    .dataframe thead th {\n",
       "        text-align: right;\n",
       "    }\n",
       "</style>\n",
       "<table border=\"1\" class=\"dataframe\">\n",
       "  <thead>\n",
       "    <tr style=\"text-align: right;\">\n",
       "      <th>metric</th>\n",
       "      <th>MAPE</th>\n",
       "      <th>WMAPE</th>\n",
       "      <th>MAE</th>\n",
       "      <th>RMSE</th>\n",
       "      <th>R^2</th>\n",
       "    </tr>\n",
       "  </thead>\n",
       "  <tbody>\n",
       "    <tr>\n",
       "      <th>Linear Regression</th>\n",
       "      <td>0.0427</td>\n",
       "      <td>0.0418</td>\n",
       "      <td>70787.9647</td>\n",
       "      <td>94025.4117</td>\n",
       "      <td>0.7276</td>\n",
       "    </tr>\n",
       "    <tr>\n",
       "      <th>XGBoost</th>\n",
       "      <td>0.0010</td>\n",
       "      <td>0.0010</td>\n",
       "      <td>1696.6174</td>\n",
       "      <td>2443.9369</td>\n",
       "      <td>0.9998</td>\n",
       "    </tr>\n",
       "  </tbody>\n",
       "</table>\n",
       "</div>"
      ],
      "text/plain": [
       "metric               MAPE   WMAPE         MAE        RMSE     R^2\n",
       "Linear Regression  0.0427  0.0418  70787.9647  94025.4117  0.7276\n",
       "XGBoost            0.0010  0.0010   1696.6174   2443.9369  0.9998"
      ]
     },
     "execution_count": 121,
     "metadata": {},
     "output_type": "execute_result"
    }
   ],
   "source": [
    "model_comparison_report.performance_metrics"
   ]
  },
  {
   "cell_type": "markdown",
   "metadata": {},
   "source": [
    "A report comparing the performance, metrics between Linear model and Tree model are available [here](https://drive.google.com/file/d/1LDibiFap9K4DKME-Y0S0mtI_05lTdaJF/view?usp=sharing)"
   ]
  },
  {
   "cell_type": "markdown",
   "metadata": {},
   "source": [
    "### Train and Test Data - Chicken Theme"
   ]
  },
  {
   "cell_type": "code",
   "execution_count": 169,
   "metadata": {},
   "outputs": [
    {
     "name": "stdout",
     "output_type": "stream",
     "text": [
      "(156, 9) (156, 1)\n",
      "(40, 9) (40, 1)\n"
     ]
    }
   ],
   "source": [
    "X_train = load_dataset(context, 'train/theme_chicken/features_chicken')\n",
    "y_train = load_dataset(context, 'train/theme_chicken/target_chicken')\n",
    "print(X_train.shape, y_train.shape)\n",
    "\n",
    "X_test = load_dataset(context, 'test/theme_chicken/features_chicken')\n",
    "y_test = load_dataset(context, 'test/theme_chicken/target_chicken')\n",
    "print(X_test.shape, y_test.shape)"
   ]
  },
  {
   "cell_type": "code",
   "execution_count": 170,
   "metadata": {},
   "outputs": [],
   "source": [
    "# Scaling the training and test sets\n",
    "from sklearn.preprocessing import StandardScaler\n",
    "\n",
    "sc = StandardScaler()\n",
    "X_train_std = sc.fit_transform(X_train)\n",
    "X_test_std = sc.transform(X_test)\n",
    "\n",
    "# Retaining column names after standardization\n",
    "X_train_std = pd.DataFrame(X_train_std, columns = X_train.columns)\n",
    "X_test_std = pd.DataFrame(X_test_std, columns = X_test.columns)\n",
    "\n",
    "y_train = pd.DataFrame(y_train).reset_index(drop=True)\n",
    "y_test = pd.DataFrame(y_test).reset_index(drop=True)"
   ]
  },
  {
   "cell_type": "code",
   "execution_count": 171,
   "metadata": {},
   "outputs": [
    {
     "data": {
      "text/html": [
       "<table class=\"simpletable\">\n",
       "<caption>OLS Regression Results</caption>\n",
       "<tr>\n",
       "  <th>Dep. Variable:</th>            <td>y</td>        <th>  R-squared:         </th> <td>   0.940</td>\n",
       "</tr>\n",
       "<tr>\n",
       "  <th>Model:</th>                   <td>OLS</td>       <th>  Adj. R-squared:    </th> <td>   0.936</td>\n",
       "</tr>\n",
       "<tr>\n",
       "  <th>Method:</th>             <td>Least Squares</td>  <th>  F-statistic:       </th> <td>   254.4</td>\n",
       "</tr>\n",
       "<tr>\n",
       "  <th>Date:</th>             <td>Mon, 03 Jul 2023</td> <th>  Prob (F-statistic):</th> <td>1.55e-84</td>\n",
       "</tr>\n",
       "<tr>\n",
       "  <th>Time:</th>                 <td>13:56:40</td>     <th>  Log-Likelihood:    </th> <td> -1233.9</td>\n",
       "</tr>\n",
       "<tr>\n",
       "  <th>No. Observations:</th>      <td>   156</td>      <th>  AIC:               </th> <td>   2488.</td>\n",
       "</tr>\n",
       "<tr>\n",
       "  <th>Df Residuals:</th>          <td>   146</td>      <th>  BIC:               </th> <td>   2518.</td>\n",
       "</tr>\n",
       "<tr>\n",
       "  <th>Df Model:</th>              <td>     9</td>      <th>                     </th>     <td> </td>   \n",
       "</tr>\n",
       "<tr>\n",
       "  <th>Covariance Type:</th>      <td>nonrobust</td>    <th>                     </th>     <td> </td>   \n",
       "</tr>\n",
       "</table>\n",
       "<table class=\"simpletable\">\n",
       "<tr>\n",
       "            <td></td>              <th>coef</th>     <th>std err</th>      <th>t</th>      <th>P>|t|</th>  <th>[0.025</th>    <th>0.975]</th>  \n",
       "</tr>\n",
       "<tr>\n",
       "  <th>intercept</th>            <td> 6402.8715</td> <td>   54.527</td> <td>  117.425</td> <td> 0.000</td> <td> 6295.107</td> <td> 6510.636</td>\n",
       "</tr>\n",
       "<tr>\n",
       "  <th>Average Price A</th>      <td>-1645.7065</td> <td>   94.216</td> <td>  -17.467</td> <td> 0.000</td> <td>-1831.909</td> <td>-1459.504</td>\n",
       "</tr>\n",
       "<tr>\n",
       "  <th>Average Price B</th>      <td> -148.3976</td> <td>   70.265</td> <td>   -2.112</td> <td> 0.036</td> <td> -287.265</td> <td>   -9.531</td>\n",
       "</tr>\n",
       "<tr>\n",
       "  <th>Average Price D</th>      <td> -970.7970</td> <td>  112.882</td> <td>   -8.600</td> <td> 0.000</td> <td>-1193.892</td> <td> -747.702</td>\n",
       "</tr>\n",
       "<tr>\n",
       "  <th>Average Price F</th>      <td>  506.8027</td> <td>  107.904</td> <td>    4.697</td> <td> 0.000</td> <td>  293.548</td> <td>  720.057</td>\n",
       "</tr>\n",
       "<tr>\n",
       "  <th>Average Price H</th>      <td>  -36.3857</td> <td>   62.825</td> <td>   -0.579</td> <td> 0.563</td> <td> -160.550</td> <td>   87.779</td>\n",
       "</tr>\n",
       "<tr>\n",
       "  <th>Average Price Others</th> <td>  -16.0474</td> <td>   76.110</td> <td>   -0.211</td> <td> 0.833</td> <td> -166.468</td> <td>  134.373</td>\n",
       "</tr>\n",
       "<tr>\n",
       "  <th>Average Price Label</th>  <td> -310.3695</td> <td>   89.842</td> <td>   -3.455</td> <td> 0.001</td> <td> -487.928</td> <td> -132.811</td>\n",
       "</tr>\n",
       "<tr>\n",
       "  <th>total_post_0W</th>        <td>   90.9291</td> <td>   65.442</td> <td>    1.389</td> <td> 0.167</td> <td>  -38.407</td> <td>  220.265</td>\n",
       "</tr>\n",
       "<tr>\n",
       "  <th>total_post_51W</th>       <td>   31.5043</td> <td>   67.008</td> <td>    0.470</td> <td> 0.639</td> <td> -100.927</td> <td>  163.936</td>\n",
       "</tr>\n",
       "</table>\n",
       "<table class=\"simpletable\">\n",
       "<tr>\n",
       "  <th>Omnibus:</th>       <td>16.532</td> <th>  Durbin-Watson:     </th> <td>   1.804</td>\n",
       "</tr>\n",
       "<tr>\n",
       "  <th>Prob(Omnibus):</th> <td> 0.000</td> <th>  Jarque-Bera (JB):  </th> <td>  39.557</td>\n",
       "</tr>\n",
       "<tr>\n",
       "  <th>Skew:</th>          <td> 0.383</td> <th>  Prob(JB):          </th> <td>2.57e-09</td>\n",
       "</tr>\n",
       "<tr>\n",
       "  <th>Kurtosis:</th>      <td> 5.345</td> <th>  Cond. No.          </th> <td>    4.81</td>\n",
       "</tr>\n",
       "</table><br/><br/>Notes:<br/>[1] Standard Errors assume that the covariance matrix of the errors is correctly specified."
      ],
      "text/plain": [
       "<class 'statsmodels.iolib.summary.Summary'>\n",
       "\"\"\"\n",
       "                            OLS Regression Results                            \n",
       "==============================================================================\n",
       "Dep. Variable:                      y   R-squared:                       0.940\n",
       "Model:                            OLS   Adj. R-squared:                  0.936\n",
       "Method:                 Least Squares   F-statistic:                     254.4\n",
       "Date:                Mon, 03 Jul 2023   Prob (F-statistic):           1.55e-84\n",
       "Time:                        13:56:40   Log-Likelihood:                -1233.9\n",
       "No. Observations:                 156   AIC:                             2488.\n",
       "Df Residuals:                     146   BIC:                             2518.\n",
       "Df Model:                           9                                         \n",
       "Covariance Type:            nonrobust                                         \n",
       "========================================================================================\n",
       "                           coef    std err          t      P>|t|      [0.025      0.975]\n",
       "----------------------------------------------------------------------------------------\n",
       "intercept             6402.8715     54.527    117.425      0.000    6295.107    6510.636\n",
       "Average Price A      -1645.7065     94.216    -17.467      0.000   -1831.909   -1459.504\n",
       "Average Price B       -148.3976     70.265     -2.112      0.036    -287.265      -9.531\n",
       "Average Price D       -970.7970    112.882     -8.600      0.000   -1193.892    -747.702\n",
       "Average Price F        506.8027    107.904      4.697      0.000     293.548     720.057\n",
       "Average Price H        -36.3857     62.825     -0.579      0.563    -160.550      87.779\n",
       "Average Price Others   -16.0474     76.110     -0.211      0.833    -166.468     134.373\n",
       "Average Price Label   -310.3695     89.842     -3.455      0.001    -487.928    -132.811\n",
       "total_post_0W           90.9291     65.442      1.389      0.167     -38.407     220.265\n",
       "total_post_51W          31.5043     67.008      0.470      0.639    -100.927     163.936\n",
       "==============================================================================\n",
       "Omnibus:                       16.532   Durbin-Watson:                   1.804\n",
       "Prob(Omnibus):                  0.000   Jarque-Bera (JB):               39.557\n",
       "Skew:                           0.383   Prob(JB):                     2.57e-09\n",
       "Kurtosis:                       5.345   Cond. No.                         4.81\n",
       "==============================================================================\n",
       "\n",
       "Notes:\n",
       "[1] Standard Errors assume that the covariance matrix of the errors is correctly specified.\n",
       "\"\"\""
      ]
     },
     "execution_count": 171,
     "metadata": {},
     "output_type": "execute_result"
    }
   ],
   "source": [
    "#Model iteration 1\n",
    "reg_ppln_ols = Pipeline([\n",
    "    ('estimator', SKLStatsmodelOLS())\n",
    "])\n",
    "reg_ppln_ols.fit(X_train_std, y_train.values.ravel())\n",
    "# Removing low p-value\n",
    "reg_ppln_ols['estimator'].summary()"
   ]
  },
  {
   "cell_type": "code",
   "execution_count": 173,
   "metadata": {},
   "outputs": [
    {
     "name": "stdout",
     "output_type": "stream",
     "text": [
      "                            OLS Regression Results                            \n",
      "==============================================================================\n",
      "Dep. Variable:                      y   R-squared:                       0.940\n",
      "Model:                            OLS   Adj. R-squared:                  0.937\n",
      "Method:                 Least Squares   F-statistic:                     330.6\n",
      "Date:                Mon, 03 Jul 2023   Prob (F-statistic):           5.63e-87\n",
      "Time:                        13:56:50   Log-Likelihood:                -1234.1\n",
      "No. Observations:                 156   AIC:                             2484.\n",
      "Df Residuals:                     148   BIC:                             2509.\n",
      "Df Model:                           7                                         \n",
      "Covariance Type:            nonrobust                                         \n",
      "=======================================================================================\n",
      "                          coef    std err          t      P>|t|      [0.025      0.975]\n",
      "---------------------------------------------------------------------------------------\n",
      "intercept            6402.8715     54.226    118.076      0.000    6295.713    6510.030\n",
      "Average Price A     -1654.4347     92.593    -17.868      0.000   -1837.410   -1471.459\n",
      "Average Price B      -148.1576     69.606     -2.129      0.035    -285.708     -10.607\n",
      "Average Price D      -976.7153    106.076     -9.208      0.000   -1186.334    -767.097\n",
      "Average Price F       483.8133     95.785      5.051      0.000     294.530     673.096\n",
      "Average Price Label  -302.7331     66.222     -4.571      0.000    -433.596    -171.870\n",
      "total_post_0W          84.2174     64.108      1.314      0.191     -42.468     210.903\n",
      "total_post_51W         35.1700     66.185      0.531      0.596     -95.621     165.961\n",
      "==============================================================================\n",
      "Omnibus:                       15.112   Durbin-Watson:                   1.821\n",
      "Prob(Omnibus):                  0.001   Jarque-Bera (JB):               34.104\n",
      "Skew:                           0.357   Prob(JB):                     3.93e-08\n",
      "Kurtosis:                       5.176   Cond. No.                         4.19\n",
      "==============================================================================\n",
      "\n",
      "Notes:\n",
      "[1] Standard Errors assume that the covariance matrix of the errors is correctly specified.\n"
     ]
    }
   ],
   "source": [
    "# Model iteration 2\n",
    "#Removing low p-value\n",
    "reg_ppln_ols1 = Pipeline([\n",
    "    ('estimator', SKLStatsmodelOLS())\n",
    "])\n",
    "X_train_std1 = X_train_std.drop(columns = ['Average Price H','Average Price Others'])\n",
    "reg_ppln_ols1.fit(X_train_std1, y_train.values.ravel())\n",
    "# Removing low p-value\n",
    "print(reg_ppln_ols1['estimator'].summary())"
   ]
  },
  {
   "cell_type": "markdown",
   "metadata": {},
   "source": [
    "### Train and Test Data - Salmon Theme"
   ]
  },
  {
   "cell_type": "code",
   "execution_count": 174,
   "metadata": {},
   "outputs": [
    {
     "name": "stdout",
     "output_type": "stream",
     "text": [
      "(156, 11) (156, 1)\n",
      "(40, 11) (40, 1)\n"
     ]
    }
   ],
   "source": [
    "X_train = load_dataset(context, 'train/theme_salmon/features_salmon')\n",
    "y_train = load_dataset(context, 'train/theme_salmon/target_salmon')\n",
    "print(X_train.shape, y_train.shape)\n",
    "\n",
    "X_test = load_dataset(context, 'test/theme_salmon/features_salmon')\n",
    "y_test = load_dataset(context, 'test/theme_salmon/target_salmon')\n",
    "print(X_test.shape, y_test.shape)\n",
    "\n",
    "# Scaling the training and test sets\n",
    "from sklearn.preprocessing import StandardScaler\n",
    "\n",
    "sc = StandardScaler()\n",
    "X_train_std = sc.fit_transform(X_train)\n",
    "X_test_std = sc.transform(X_test)\n",
    "\n",
    "# Retaining column names after standardization\n",
    "X_train_std = pd.DataFrame(X_train_std, columns = X_train.columns)\n",
    "X_test_std = pd.DataFrame(X_test_std, columns = X_test.columns)\n",
    "\n",
    "y_train = pd.DataFrame(y_train).reset_index(drop=True)\n",
    "y_test = pd.DataFrame(y_test).reset_index(drop=True)\n",
    "\n"
   ]
  },
  {
   "cell_type": "code",
   "execution_count": 175,
   "metadata": {},
   "outputs": [
    {
     "data": {
      "text/html": [
       "<table class=\"simpletable\">\n",
       "<caption>OLS Regression Results</caption>\n",
       "<tr>\n",
       "  <th>Dep. Variable:</th>            <td>y</td>        <th>  R-squared:         </th> <td>   0.713</td>\n",
       "</tr>\n",
       "<tr>\n",
       "  <th>Model:</th>                   <td>OLS</td>       <th>  Adj. R-squared:    </th> <td>   0.692</td>\n",
       "</tr>\n",
       "<tr>\n",
       "  <th>Method:</th>             <td>Least Squares</td>  <th>  F-statistic:       </th> <td>   32.59</td>\n",
       "</tr>\n",
       "<tr>\n",
       "  <th>Date:</th>             <td>Mon, 03 Jul 2023</td> <th>  Prob (F-statistic):</th> <td>9.64e-34</td>\n",
       "</tr>\n",
       "<tr>\n",
       "  <th>Time:</th>                 <td>13:57:34</td>     <th>  Log-Likelihood:    </th> <td> -1870.9</td>\n",
       "</tr>\n",
       "<tr>\n",
       "  <th>No. Observations:</th>      <td>   156</td>      <th>  AIC:               </th> <td>   3766.</td>\n",
       "</tr>\n",
       "<tr>\n",
       "  <th>Df Residuals:</th>          <td>   144</td>      <th>  BIC:               </th> <td>   3802.</td>\n",
       "</tr>\n",
       "<tr>\n",
       "  <th>Df Model:</th>              <td>    11</td>      <th>                     </th>     <td> </td>   \n",
       "</tr>\n",
       "<tr>\n",
       "  <th>Covariance Type:</th>      <td>nonrobust</td>    <th>                     </th>     <td> </td>   \n",
       "</tr>\n",
       "</table>\n",
       "<table class=\"simpletable\">\n",
       "<tr>\n",
       "            <td></td>              <th>coef</th>     <th>std err</th>      <th>t</th>      <th>P>|t|</th>  <th>[0.025</th>    <th>0.975]</th>  \n",
       "</tr>\n",
       "<tr>\n",
       "  <th>intercept</th>            <td> 6.788e+05</td> <td> 3259.272</td> <td>  208.277</td> <td> 0.000</td> <td> 6.72e+05</td> <td> 6.85e+05</td>\n",
       "</tr>\n",
       "<tr>\n",
       "  <th>Average Price A</th>      <td>-6.259e+04</td> <td> 8523.007</td> <td>   -7.343</td> <td> 0.000</td> <td>-7.94e+04</td> <td>-4.57e+04</td>\n",
       "</tr>\n",
       "<tr>\n",
       "  <th>Average Price B</th>      <td>-9372.6161</td> <td> 5570.617</td> <td>   -1.683</td> <td> 0.095</td> <td>-2.04e+04</td> <td> 1638.126</td>\n",
       "</tr>\n",
       "<tr>\n",
       "  <th>Average Price D</th>      <td> 1.859e+04</td> <td> 5108.287</td> <td>    3.639</td> <td> 0.000</td> <td> 8494.668</td> <td> 2.87e+04</td>\n",
       "</tr>\n",
       "<tr>\n",
       "  <th>Average Price F</th>      <td> 3033.7599</td> <td> 3918.580</td> <td>    0.774</td> <td> 0.440</td> <td>-4711.608</td> <td> 1.08e+04</td>\n",
       "</tr>\n",
       "<tr>\n",
       "  <th>Average Price H</th>      <td> 1.416e+04</td> <td> 3934.775</td> <td>    3.599</td> <td> 0.000</td> <td> 6384.585</td> <td> 2.19e+04</td>\n",
       "</tr>\n",
       "<tr>\n",
       "  <th>Average Price Others</th> <td>-2.129e+04</td> <td> 5630.925</td> <td>   -3.780</td> <td> 0.000</td> <td>-3.24e+04</td> <td>-1.02e+04</td>\n",
       "</tr>\n",
       "<tr>\n",
       "  <th>Average Price Label</th>  <td> 1.063e+04</td> <td> 5536.120</td> <td>    1.920</td> <td> 0.057</td> <td> -312.130</td> <td> 2.16e+04</td>\n",
       "</tr>\n",
       "<tr>\n",
       "  <th>total_0W</th>             <td>-3124.3028</td> <td> 4344.942</td> <td>   -0.719</td> <td> 0.473</td> <td>-1.17e+04</td> <td> 5463.801</td>\n",
       "</tr>\n",
       "<tr>\n",
       "  <th>total_16W</th>            <td> 5187.6123</td> <td> 4291.132</td> <td>    1.209</td> <td> 0.229</td> <td>-3294.131</td> <td> 1.37e+04</td>\n",
       "</tr>\n",
       "<tr>\n",
       "  <th>total_post_0W</th>        <td> 2798.7872</td> <td> 3398.397</td> <td>    0.824</td> <td> 0.412</td> <td>-3918.399</td> <td> 9515.974</td>\n",
       "</tr>\n",
       "<tr>\n",
       "  <th>total_post_5W</th>        <td> -580.3067</td> <td> 3724.036</td> <td>   -0.156</td> <td> 0.876</td> <td>-7941.143</td> <td> 6780.529</td>\n",
       "</tr>\n",
       "</table>\n",
       "<table class=\"simpletable\">\n",
       "<tr>\n",
       "  <th>Omnibus:</th>       <td>31.571</td> <th>  Durbin-Watson:     </th> <td>   2.140</td>\n",
       "</tr>\n",
       "<tr>\n",
       "  <th>Prob(Omnibus):</th> <td> 0.000</td> <th>  Jarque-Bera (JB):  </th> <td>  60.389</td>\n",
       "</tr>\n",
       "<tr>\n",
       "  <th>Skew:</th>          <td> 0.931</td> <th>  Prob(JB):          </th> <td>7.70e-14</td>\n",
       "</tr>\n",
       "<tr>\n",
       "  <th>Kurtosis:</th>      <td> 5.413</td> <th>  Cond. No.          </th> <td>    6.00</td>\n",
       "</tr>\n",
       "</table><br/><br/>Notes:<br/>[1] Standard Errors assume that the covariance matrix of the errors is correctly specified."
      ],
      "text/plain": [
       "<class 'statsmodels.iolib.summary.Summary'>\n",
       "\"\"\"\n",
       "                            OLS Regression Results                            \n",
       "==============================================================================\n",
       "Dep. Variable:                      y   R-squared:                       0.713\n",
       "Model:                            OLS   Adj. R-squared:                  0.692\n",
       "Method:                 Least Squares   F-statistic:                     32.59\n",
       "Date:                Mon, 03 Jul 2023   Prob (F-statistic):           9.64e-34\n",
       "Time:                        13:57:34   Log-Likelihood:                -1870.9\n",
       "No. Observations:                 156   AIC:                             3766.\n",
       "Df Residuals:                     144   BIC:                             3802.\n",
       "Df Model:                          11                                         \n",
       "Covariance Type:            nonrobust                                         \n",
       "========================================================================================\n",
       "                           coef    std err          t      P>|t|      [0.025      0.975]\n",
       "----------------------------------------------------------------------------------------\n",
       "intercept             6.788e+05   3259.272    208.277      0.000    6.72e+05    6.85e+05\n",
       "Average Price A      -6.259e+04   8523.007     -7.343      0.000   -7.94e+04   -4.57e+04\n",
       "Average Price B      -9372.6161   5570.617     -1.683      0.095   -2.04e+04    1638.126\n",
       "Average Price D       1.859e+04   5108.287      3.639      0.000    8494.668    2.87e+04\n",
       "Average Price F       3033.7599   3918.580      0.774      0.440   -4711.608    1.08e+04\n",
       "Average Price H       1.416e+04   3934.775      3.599      0.000    6384.585    2.19e+04\n",
       "Average Price Others -2.129e+04   5630.925     -3.780      0.000   -3.24e+04   -1.02e+04\n",
       "Average Price Label   1.063e+04   5536.120      1.920      0.057    -312.130    2.16e+04\n",
       "total_0W             -3124.3028   4344.942     -0.719      0.473   -1.17e+04    5463.801\n",
       "total_16W             5187.6123   4291.132      1.209      0.229   -3294.131    1.37e+04\n",
       "total_post_0W         2798.7872   3398.397      0.824      0.412   -3918.399    9515.974\n",
       "total_post_5W         -580.3067   3724.036     -0.156      0.876   -7941.143    6780.529\n",
       "==============================================================================\n",
       "Omnibus:                       31.571   Durbin-Watson:                   2.140\n",
       "Prob(Omnibus):                  0.000   Jarque-Bera (JB):               60.389\n",
       "Skew:                           0.931   Prob(JB):                     7.70e-14\n",
       "Kurtosis:                       5.413   Cond. No.                         6.00\n",
       "==============================================================================\n",
       "\n",
       "Notes:\n",
       "[1] Standard Errors assume that the covariance matrix of the errors is correctly specified.\n",
       "\"\"\""
      ]
     },
     "execution_count": 175,
     "metadata": {},
     "output_type": "execute_result"
    }
   ],
   "source": [
    "#Model iteration1\n",
    "reg_ppln_ols = Pipeline([\n",
    "    ('estimator', SKLStatsmodelOLS())\n",
    "])\n",
    "reg_ppln_ols.fit(X_train_std, y_train.values.ravel())\n",
    "# Removing low p-value\n",
    "reg_ppln_ols['estimator'].summary()"
   ]
  },
  {
   "cell_type": "code",
   "execution_count": 176,
   "metadata": {},
   "outputs": [
    {
     "name": "stdout",
     "output_type": "stream",
     "text": [
      "                            OLS Regression Results                            \n",
      "==============================================================================\n",
      "Dep. Variable:                      y   R-squared:                       0.711\n",
      "Model:                            OLS   Adj. R-squared:                  0.695\n",
      "Method:                 Least Squares   F-statistic:                     45.19\n",
      "Date:                Mon, 03 Jul 2023   Prob (F-statistic):           6.34e-36\n",
      "Time:                        13:57:35   Log-Likelihood:                -1871.6\n",
      "No. Observations:                 156   AIC:                             3761.\n",
      "Df Residuals:                     147   BIC:                             3789.\n",
      "Df Model:                           8                                         \n",
      "Covariance Type:            nonrobust                                         \n",
      "========================================================================================\n",
      "                           coef    std err          t      P>|t|      [0.025      0.975]\n",
      "----------------------------------------------------------------------------------------\n",
      "intercept             6.788e+05   3239.869    209.524      0.000    6.72e+05    6.85e+05\n",
      "Average Price A      -6.294e+04   7435.507     -8.465      0.000   -7.76e+04   -4.82e+04\n",
      "Average Price B      -8627.5126   5150.648     -1.675      0.096   -1.88e+04    1551.370\n",
      "Average Price D       1.929e+04   4959.602      3.890      0.000    9492.461    2.91e+04\n",
      "Average Price H       1.515e+04   3711.005      4.083      0.000    7819.519    2.25e+04\n",
      "Average Price Others -2.096e+04   5455.991     -3.842      0.000   -3.17e+04   -1.02e+04\n",
      "Average Price Label   1.052e+04   5456.166      1.928      0.056    -265.157    2.13e+04\n",
      "total_16W             4670.2535   4167.633      1.121      0.264   -3565.961    1.29e+04\n",
      "total_post_0W         2756.7204   3373.225      0.817      0.415   -3909.558    9422.999\n",
      "==============================================================================\n",
      "Omnibus:                       31.146   Durbin-Watson:                   2.143\n",
      "Prob(Omnibus):                  0.000   Jarque-Bera (JB):               57.286\n",
      "Skew:                           0.937   Prob(JB):                     3.64e-13\n",
      "Kurtosis:                       5.303   Cond. No.                         4.98\n",
      "==============================================================================\n",
      "\n",
      "Notes:\n",
      "[1] Standard Errors assume that the covariance matrix of the errors is correctly specified.\n"
     ]
    }
   ],
   "source": [
    "# Model iteration 2\n",
    "#Removing low p-value\n",
    "reg_ppln_ols1 = Pipeline([\n",
    "    ('estimator', SKLStatsmodelOLS())\n",
    "])\n",
    "\n",
    "X_train_std1 = X_train_std.drop(columns = ['Average Price F','total_0W','total_post_5W'])\n",
    "X_train_std1 = remove_correlated_vars(X_train_std1)\n",
    "reg_ppln_ols1.fit(X_train_std1, y_train.values.ravel())\n",
    "# Removing low p-value\n",
    "print(reg_ppln_ols1['estimator'].summary())"
   ]
  },
  {
   "cell_type": "code",
   "execution_count": null,
   "metadata": {},
   "outputs": [],
   "source": []
  },
  {
   "cell_type": "code",
   "execution_count": null,
   "metadata": {},
   "outputs": [],
   "source": []
  }
 ],
 "metadata": {
  "kernelspec": {
   "display_name": "Python 3 (ipykernel)",
   "language": "python",
   "name": "python3"
  },
  "language_info": {
   "codemirror_mode": {
    "name": "ipython",
    "version": 3
   },
   "file_extension": ".py",
   "mimetype": "text/x-python",
   "name": "python",
   "nbconvert_exporter": "python",
   "pygments_lexer": "ipython3",
   "version": "3.9.16"
  }
 },
 "nbformat": 4,
 "nbformat_minor": 4
}
